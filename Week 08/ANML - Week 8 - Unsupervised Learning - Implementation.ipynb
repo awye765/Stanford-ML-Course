{
 "cells": [
  {
   "cell_type": "markdown",
   "metadata": {},
   "source": [
    "# Introduction"
   ]
  },
  {
   "cell_type": "markdown",
   "metadata": {},
   "source": [
    "In this exercise we will:\n",
    "\n",
    "1. Implement K-means clustering and use it to compress an image.  We'll start with a simple 2D data set to see how K-means works, then we'll apply it to image compression.  \n",
    "\n",
    "\n",
    "2. Experiment with principal component analysis and see how it can be used to find a low-dimensional representation of images of faces."
   ]
  },
  {
   "cell_type": "markdown",
   "metadata": {},
   "source": [
    "# Part 1 - K-means Clustering\n",
    "-----------"
   ]
  },
  {
   "cell_type": "markdown",
   "metadata": {},
   "source": [
    "# Setting the Scene"
   ]
  },
  {
   "cell_type": "markdown",
   "metadata": {},
   "source": [
    "To start out we're going to implement and apply K-means to a simple 2-dimensional data set to gain some intuition about how it works.  \n",
    "\n",
    "Recall that K-means is an iterative, unsupervised clustering algorithm that groups similar instances together into clusters.  "
   ]
  },
  {
   "cell_type": "markdown",
   "metadata": {},
   "source": [
    "# K-means Algorithm\n",
    "\n",
    "Recall the K-means algorithm is as follows:\n",
    "\n",
    "1. <b>Inputs:</b>\n",
    "\n",
    "    (a) The number of desired clusters, $K$; and\n",
    "    \n",
    "    (b) The unlabelled training set, $\\{x^1, x^2, ... x^m\\}$\n",
    "    \n",
    "  The input vector will be $n$ dimensional, not $n+1$ dimensional, because we do not need to add a bias unit $x_0$ unlike with supervised techniques covered previously.\n",
    "  \n",
    "\n",
    "2. <b>Cluster Initialization Step:</b> randomly initialize $K$ cluster centroids, $\\mu_1, \\mu_2, ...\\mu_K$.\n",
    "\n",
    "\n",
    "3. <b>Cluster Assignment Step:</b> repeat for $i$ = 1 to $m$, i.e. for each example the below steps:\n",
    "\n",
    "    (a) $min_k \\| x^{(i)} - \\mu_k\\|^2$, i.e. find the value of $k$ (the specific cluster centroid) that is nearest to each sample.  The bit in $\\|\\|$ represents the <b>normal</b> or <b>norm</b>, which is simply the straight line distance between the training sample and the particular centroid $k$.\n",
    "    \n",
    "    (b) set the result from (a) as the value of $c^{(i)}$.\n",
    "\n",
    "\n",
    "4. <b>Cluster Move Step:</b> for $k = 1$ to $K$ set $\\mu_k :=$ average of points assigned to cluster $k$ afte step (3).  In other words, it updates each centroid's coorindates to the average coordinates from all training samples assigned to it in step 3.\n",
    "\n",
    "    For example if after step (3) the $2^{nd}$ centroid, $\\mu$ has assigned to it training samples $x^{(1)}, x^{(5)}, x^{(6)}$ and $x^{(10)}$ then the step (4) calculation is as follows:\n",
    "    \n",
    "\\begin{align}\n",
    "\\mu_2 = \\frac{1}{4}(x^{(1)} + x^{(5)} + x^{(6)} + x^{(10)})\n",
    "\\end{align}\n",
    "\n",
    "5. <b>Note:</b> if after step (3) a centroid has no training samples assigned to it then we eliminate that centroid, resulting in $K-1$ clusters."
   ]
  },
  {
   "cell_type": "markdown",
   "metadata": {},
   "source": [
    "# Step 1 - Load the Libraries"
   ]
  },
  {
   "cell_type": "code",
   "execution_count": 26,
   "metadata": {},
   "outputs": [],
   "source": [
    "import numpy as np\n",
    "import pandas as pd\n",
    "import matplotlib.pyplot as plt\n",
    "import seaborn as sb\n",
    "from scipy.io import loadmat\n",
    "%matplotlib inline"
   ]
  },
  {
   "cell_type": "markdown",
   "metadata": {},
   "source": [
    "# Step 2 - Load the Data"
   ]
  },
  {
   "cell_type": "code",
   "execution_count": 27,
   "metadata": {},
   "outputs": [],
   "source": [
    "data = loadmat('ex7data2.mat')\n",
    "X = data['X']"
   ]
  },
  {
   "cell_type": "markdown",
   "metadata": {},
   "source": [
    "# Step 3 - Cluster Assignment"
   ]
  },
  {
   "cell_type": "markdown",
   "metadata": {},
   "source": [
    "## (a) Recap\n",
    "\n",
    "In the \"Cluster Assignment\" step of the K-means algorithm, the algorithm first assigns every training example $x^{(i)}$ to its closest centroid, given the current positions of centroids.\n",
    "\n",
    "Specifically, for every example $i$ we set:\n",
    "\n",
    "\\begin{align}\n",
    "c^{(i)}:= k \\text{ that minimizes }\\|x^{(i)} - \\mu_k \\|^2\n",
    "\\end{align}\n",
    "\n",
    "Where $c^{(i)}$ is the index of the centroid that is closest to $x^{(i)}$, and $\\mu_k$ is the position (value) of the $k^{th}$ centroid.\n",
    "\n",
    "The result of this step is to generate \"clusters\", i.e. the groups of samples assigned to each centroid"
   ]
  },
  {
   "cell_type": "markdown",
   "metadata": {},
   "source": [
    "## (b) The Cluster Assignment Function"
   ]
  },
  {
   "cell_type": "code",
   "execution_count": 28,
   "metadata": {},
   "outputs": [],
   "source": [
    "def find_closest_centroids(X, centroids):\n",
    "    # Defines variable m = to no. of samples, i.e. 50\n",
    "    m = X.shape[0]\n",
    "    \n",
    "    # Defines variable k = to no. of centroids, i.e. 16\n",
    "    k = centroids.shape[0]\n",
    "    \n",
    "    # Defines variable idx = to 50 item 1d array of 0s.  Intended to store\n",
    "    # the index of the centroid nearest each sample.  Equivalent to c^(i)\n",
    "    idx = np.zeros(m)\n",
    "    \n",
    "    # Loops over each of the 50 samples, i.e. from index 0 to 49 of m\n",
    "    for i in range(m):\n",
    "        \n",
    "        # \n",
    "        min_dist = 1000000\n",
    "        \n",
    "        # Loops over each of the 3 initial centroids\n",
    "        for j in range(k):\n",
    "            \n",
    "            # Vectorised implementation. Calculates squared distance \n",
    "            # between each sample and each centroid, e.g. the distance\n",
    "            # between sample 1 and centroid 1, sample 1 and centroid 2 and\n",
    "            # so on.\n",
    "            dist = np.sum((X[i,:] - centroids[j,:]) ** 2)\n",
    "            \n",
    "            # Checks whether distance between sample and current centroid\n",
    "            # is less than the then current minimum distance.\n",
    "            if dist < min_dist:\n",
    "                \n",
    "                # Updates min_dist variable with dist if distance between\n",
    "                # sample and current centroid under comparison is less \n",
    "                # than the previous comparison.\n",
    "                min_dist = dist\n",
    "                \n",
    "                # Updates idx with the index of the centroid currently\n",
    "                # understood as the shortest distance from the sample\n",
    "                idx[i] = j\n",
    "    \n",
    "    # Returns idx values describing which centroid is nearest each sample\n",
    "    return idx"
   ]
  },
  {
   "cell_type": "markdown",
   "metadata": {},
   "source": [
    "## (c) Testing the function\n",
    "\n",
    "Let's test the function to make sure it's working as expected.  \n",
    "\n",
    "We'll use the test case provided in the exercise, i.e. centroids at: [3, 3], [6, 2] and [8, 5]."
   ]
  },
  {
   "cell_type": "code",
   "execution_count": 29,
   "metadata": {},
   "outputs": [
    {
     "data": {
      "text/plain": [
       "array([ 0.,  2.,  1.])"
      ]
     },
     "execution_count": 29,
     "metadata": {},
     "output_type": "execute_result"
    }
   ],
   "source": [
    "initial_centroids = np.array([[3, 3], [6, 2], [8, 5]])\n",
    "\n",
    "idx = find_closest_centroids(X, initial_centroids)\n",
    "idx[0:3]"
   ]
  },
  {
   "cell_type": "markdown",
   "metadata": {},
   "source": [
    "The output matches the expected values in the text.\n",
    "\n",
    "<b>Note:</b> remember our arrays are zero-indexed instead of one-indexed (as is the case in Matlab) so the values are one lower than in the exercise.  "
   ]
  },
  {
   "cell_type": "markdown",
   "metadata": {},
   "source": [
    "# Step 4 - Cluster Move\n",
    "\n",
    "## (a) Recap\n",
    "\n",
    "After Step 3 we have generated clusters.  Next we need a function to compute the centroid of each cluster.  Recall that:\n",
    "\n",
    "* The centroid is simply the mean of all of the examples currently assigned to the cluster.\n",
    "\n",
    "\n",
    "* The centroid of each cluster will form the new centroid position used when re-running the Cluster Assignment step via the iterative process described above.\n",
    "\n",
    "\n",
    "* Specifically, for every centroid $k$, we set:\n",
    "\n",
    "\\begin{align}\n",
    "\\mu_k := \\frac{1}{|C_k|} \\sum_{i \\in C_k} x^{(i)}\n",
    "\\end{align}\n",
    "\n",
    "\n",
    "* Where $C_k$ is the set of examples assigned to centroid $k$.  Concretely, if two examples, e.g. $x^{(3)}$ and $x^{(5)}$, are assigned to centroid $k = 2$, then you should update $\\mu_2 = \\frac{1}{2}(x^{(3)} + x^{(5)})$"
   ]
  },
  {
   "cell_type": "markdown",
   "metadata": {},
   "source": [
    "## (b) Defining the Cluster Move Function"
   ]
  },
  {
   "cell_type": "code",
   "execution_count": 30,
   "metadata": {},
   "outputs": [],
   "source": [
    "def compute_centroids(X, idx, k):\n",
    "    \n",
    "    # Creates new variables m and n, each equal to X.shape, i.e. 50\n",
    "    # for this example.\n",
    "    m, n = X.shape\n",
    "    \n",
    "    # Creates np array of k x n dimensions, i.e. 3 x 50 for this example.\n",
    "    centroids = np.zeros((k, n))\n",
    "    \n",
    "    # Loop over every centroid\n",
    "    for i in range(k):\n",
    "        \n",
    "        # Uses idx index to identify which samples are assigned to the \n",
    "        # current centroid\n",
    "        indices = np.where(idx == i)\n",
    "        \n",
    "        # Updates each centroid with the mean of all examples currently assigned\n",
    "        # to that cluster\n",
    "        centroids[i,:] = (np.sum(X[indices,:], axis=1) / len(indices[0])).ravel()\n",
    "    \n",
    "    # Returns updated centroids\n",
    "    return centroids"
   ]
  },
  {
   "cell_type": "code",
   "execution_count": 31,
   "metadata": {},
   "outputs": [
    {
     "data": {
      "text/plain": [
       "array([[ 2.42830111,  3.15792418],\n",
       "       [ 5.81350331,  2.63365645],\n",
       "       [ 7.11938687,  3.6166844 ]])"
      ]
     },
     "execution_count": 31,
     "metadata": {},
     "output_type": "execute_result"
    }
   ],
   "source": [
    "compute_centroids(X, idx, 3)"
   ]
  },
  {
   "cell_type": "markdown",
   "metadata": {},
   "source": [
    "This output also matches the expected values from the exercise.  So far so good.  "
   ]
  },
  {
   "cell_type": "markdown",
   "metadata": {},
   "source": [
    "# Step (5) - Pulling it altogether"
   ]
  },
  {
   "cell_type": "markdown",
   "metadata": {},
   "source": [
    "The next part involves actually running the algorithm for some number of iterations and visualizing the result.  "
   ]
  },
  {
   "cell_type": "markdown",
   "metadata": {},
   "source": [
    "## (a) Defining a function to iterate K-means\n",
    "\n",
    "\n",
    "This step was implemented for us in the exercise, but since it's not that complicated I'll build it here from scratch.  In order to run the algorithm we just need to alternate between assigning examples to the nearest cluster and re-computing the cluster centroids."
   ]
  },
  {
   "cell_type": "code",
   "execution_count": 32,
   "metadata": {},
   "outputs": [],
   "source": [
    "def run_k_means(X, initial_centroids, max_iters):\n",
    "    m, n = X.shape\n",
    "    k = initial_centroids.shape[0]\n",
    "    idx = np.zeros(m)\n",
    "    centroids = initial_centroids\n",
    "    \n",
    "    for i in range(max_iters):\n",
    "        idx = find_closest_centroids(X, centroids)\n",
    "        centroids = compute_centroids(X, idx, k)\n",
    "    \n",
    "    return idx, centroids"
   ]
  },
  {
   "cell_type": "markdown",
   "metadata": {},
   "source": [
    "## (b) Running K-means"
   ]
  },
  {
   "cell_type": "code",
   "execution_count": 33,
   "metadata": {},
   "outputs": [],
   "source": [
    "idx, centroids = run_k_means(X, initial_centroids, 10)"
   ]
  },
  {
   "cell_type": "markdown",
   "metadata": {},
   "source": [
    "## (c) Plotting K-means clustering results after 10 iterations"
   ]
  },
  {
   "cell_type": "code",
   "execution_count": 34,
   "metadata": {},
   "outputs": [
    {
     "data": {
      "text/plain": [
       "<matplotlib.legend.Legend at 0x11a998898>"
      ]
     },
     "execution_count": 34,
     "metadata": {},
     "output_type": "execute_result"
    },
    {
     "data": {
      "image/png": "[encoded data removed]",
      "text/plain": [
       "<matplotlib.figure.Figure at 0x11a480128>"
      ]
     },
     "metadata": {
      "needs_background": "light"
     },
     "output_type": "display_data"
    }
   ],
   "source": [
    "cluster1 = X[np.where(idx == 0)[0],:]\n",
    "cluster2 = X[np.where(idx == 1)[0],:]\n",
    "cluster3 = X[np.where(idx == 2)[0],:]\n",
    "\n",
    "fig, ax = plt.subplots(figsize=(12,8))\n",
    "ax.scatter(cluster1[:,0], cluster1[:,1], s=30, color='r', label='Cluster 1')\n",
    "ax.scatter(cluster2[:,0], cluster2[:,1], s=30, color='g', label='Cluster 2')\n",
    "ax.scatter(cluster3[:,0], cluster3[:,1], s=30, color='b', label='Cluster 3')\n",
    "ax.legend()"
   ]
  },
  {
   "cell_type": "markdown",
   "metadata": {},
   "source": [
    "# Step (6) - Running it on real data\n",
    "\n",
    "## (a) Randomly initialize centroids\n",
    "\n",
    "One step we skipped over is a process for initializing the centroids, i.e because in the above we tested using preset initial centroids rather than building a function to randomly initialise before running K-means.\n",
    "\n",
    "Recall that:\n",
    "\n",
    "* Without randomly initializing centroids this can affect the convergence of the algorithm.  \n",
    "\n",
    "\n",
    "* Andrew Ng suggests the best way to randomly intialize centroids is to randomly select <b>$k$ training samples</b> as the initial centroids.\n",
    "\n",
    "Let's build a function to do just that!"
   ]
  },
  {
   "cell_type": "code",
   "execution_count": 35,
   "metadata": {},
   "outputs": [],
   "source": [
    "def init_centroids(X, k):\n",
    "    \n",
    "    # New variables m and n.  M = no. of samples; n = no. of features.\n",
    "    m, n = X.shape\n",
    "    \n",
    "    # New centroids variable, of k x n dimensions\n",
    "    centroids = np.zeros((k, n))\n",
    "    \n",
    "    # New idx variable where 0 = lowest value, m = highest value, k =\n",
    "    # no. of random values.  I.e. generates 3 random numbers between 0 and\n",
    "    # m in value\n",
    "    idx = np.random.randint(0, m, k)\n",
    "    \n",
    "    # Loop over each initial centroid k\n",
    "    for i in range(k):\n",
    "        \n",
    "        # Assign each centroid k a training sample at the index equal \n",
    "        # to the random numbers generated by idx = np.random.randint(0, m, k)\n",
    "        centroids[i,:] = X[idx[i],:]\n",
    "    \n",
    "    return centroids"
   ]
  },
  {
   "cell_type": "markdown",
   "metadata": {},
   "source": [
    "Running `init_centroids` to generate randomly intialized centroids:"
   ]
  },
  {
   "cell_type": "code",
   "execution_count": 36,
   "metadata": {},
   "outputs": [
    {
     "data": {
      "text/plain": [
       "array([[ 2.90401653,  4.61220411],\n",
       "       [ 5.50295759,  2.62924634],\n",
       "       [ 3.1189017 ,  0.69438336]])"
      ]
     },
     "execution_count": 36,
     "metadata": {},
     "output_type": "execute_result"
    }
   ],
   "source": [
    "init_centroids(X, 3)"
   ]
  },
  {
   "cell_type": "markdown",
   "metadata": {},
   "source": [
    "## (b) Running K-means for image compression\n",
    "\n",
    "Our next task is to apply K-means to image compression.  The intuition here is that we can use clustering to find a small number of colors that are most representative of the image, and map the original 24-bit colors to a lower-dimensional color space using the cluster assignments.  "
   ]
  },
  {
   "cell_type": "markdown",
   "metadata": {},
   "source": [
    "### (i) The image\n",
    "\n",
    "Here's the image we're going to compress:"
   ]
  },
  {
   "cell_type": "code",
   "execution_count": 37,
   "metadata": {},
   "outputs": [
    {
     "data": {
      "image/png": "[encoded data removed]",
      "text/plain": [
       "<IPython.core.display.Image object>"
      ]
     },
     "execution_count": 37,
     "metadata": {},
     "output_type": "execute_result"
    }
   ],
   "source": [
    "from IPython.display import Image\n",
    "Image(filename='bird_small.png')"
   ]
  },
  {
   "cell_type": "markdown",
   "metadata": {},
   "source": [
    "### (ii) The Data \n",
    "\n",
    "The raw pixel data has been pre-loaded for us so let's pull it in.  To explain the data:\n",
    "\n",
    "* In a straightforward 24-bit colour representation of an image each pixel is represented as three 8-bit unsigned integers, i.e. positive integers, ranging from 0 to 255 that specify the red, green and blue intensity values.  This encoding is often referred to as RGB encoding.\n",
    "\n",
    "\n",
    "* Our image contains 1,000s of colours, and in this part of the exericse we will reduce those colours to 16!\n",
    "\n",
    "\n",
    "* By doing so we end up only having to store the RGB values of the 16 selected colours, and for each pixel in the image you now only need to store the index of the colour at that location (where only 4 bits are necessary to represent 16 possibilities).\n",
    "\n",
    "\n",
    "In this exercise, you will use the K-means algorithm to select the 16 colors that will be used to represent the compressed image. \n",
    "\n",
    "\n",
    "1. Concretely, you will: treat every pixel in the original image as a data example and use the K-means algorithm to find the 16 colors that best group (cluster) the pixels in the 3-dimensional RGB space. \n",
    "\n",
    "\n",
    "2. Once you have computed the cluster centroids on the image, you will then use the 16 colors to replace the pixels in the original image."
   ]
  },
  {
   "cell_type": "markdown",
   "metadata": {},
   "source": [
    "### (iii) Load the Data"
   ]
  },
  {
   "cell_type": "code",
   "execution_count": 38,
   "metadata": {},
   "outputs": [
    {
     "data": {
      "text/plain": [
       "{'__header__': b'MATLAB 5.0 MAT-file, Platform: GLNXA64, Created on: Tue Jun  5 04:06:24 2012',\n",
       " '__version__': '1.0',\n",
       " '__globals__': [],\n",
       " 'A': array([[[219, 180, 103],\n",
       "         [230, 185, 116],\n",
       "         [226, 186, 110],\n",
       "         ..., \n",
       "         [ 14,  15,  13],\n",
       "         [ 13,  15,  12],\n",
       "         [ 12,  14,  12]],\n",
       " \n",
       "        [[230, 193, 119],\n",
       "         [224, 192, 120],\n",
       "         [226, 192, 124],\n",
       "         ..., \n",
       "         [ 16,  16,  13],\n",
       "         [ 14,  15,  10],\n",
       "         [ 11,  14,   9]],\n",
       " \n",
       "        [[228, 191, 123],\n",
       "         [228, 191, 121],\n",
       "         [220, 185, 118],\n",
       "         ..., \n",
       "         [ 14,  16,  13],\n",
       "         [ 13,  13,  11],\n",
       "         [ 11,  15,  10]],\n",
       " \n",
       "        ..., \n",
       "        [[ 15,  18,  16],\n",
       "         [ 18,  21,  18],\n",
       "         [ 18,  19,  16],\n",
       "         ..., \n",
       "         [ 81,  45,  45],\n",
       "         [ 70,  43,  35],\n",
       "         [ 72,  51,  43]],\n",
       " \n",
       "        [[ 16,  17,  17],\n",
       "         [ 17,  18,  19],\n",
       "         [ 20,  19,  20],\n",
       "         ..., \n",
       "         [ 80,  38,  40],\n",
       "         [ 68,  39,  40],\n",
       "         [ 59,  43,  42]],\n",
       " \n",
       "        [[ 15,  19,  19],\n",
       "         [ 20,  20,  18],\n",
       "         [ 18,  19,  17],\n",
       "         ..., \n",
       "         [ 65,  43,  39],\n",
       "         [ 58,  37,  38],\n",
       "         [ 52,  39,  34]]], dtype=uint8)}"
      ]
     },
     "execution_count": 38,
     "metadata": {},
     "output_type": "execute_result"
    }
   ],
   "source": [
    "image_data = loadmat('bird_small.mat')\n",
    "image_data"
   ]
  },
  {
   "cell_type": "markdown",
   "metadata": {},
   "source": [
    "### (iv) Understand the Data"
   ]
  },
  {
   "cell_type": "code",
   "execution_count": 39,
   "metadata": {},
   "outputs": [
    {
     "data": {
      "text/plain": [
       "array([219, 180, 103], dtype=uint8)"
      ]
     },
     "execution_count": 39,
     "metadata": {},
     "output_type": "execute_result"
    }
   ],
   "source": [
    "A = image_data['A']\n",
    "A[0][0]"
   ]
  },
  {
   "cell_type": "markdown",
   "metadata": {},
   "source": [
    "This creates a three-dimensional matrix A whose:\n",
    "\n",
    "1. first two indices identify a pixel position; and \n",
    "   \n",
    "   \n",
    "2. last index represents red, green, or blue. \n",
    "\n",
    "\n",
    "For example:\n",
    "\n",
    "* `A[0][0]`, per the above code snippet, provides the RGB values for the pixel at `0, 0` coordinates in the image.\n",
    "\n",
    "\n",
    "* Those RGB values are: [219, 180, 103].\n",
    "\n",
    "\n",
    "* Where red = 219, green = 180 and blue = 103.  \n",
    "\n",
    "\n",
    "* Altogether, we can find the RGB values (e.g. `A[0][0]` finds RGB values for pixel at `0, 0`) or specific RGB value at any given pixel (e.g. `A[0][0][0]` finds red value for pixel at `0, 0`.  "
   ]
  },
  {
   "cell_type": "markdown",
   "metadata": {},
   "source": [
    "### (vi) Reshape the Data\n",
    "\n",
    "The code inside ex7.m first loads the image, and then reshapes it to create an m x 3 matrix of pixel colors (where m = 16384 = 128 x 128), and calls your K-means function on it. \n",
    "\n",
    "Now we need to apply some pre-processing to the data and feed it into the K-means algorithm."
   ]
  },
  {
   "cell_type": "code",
   "execution_count": 40,
   "metadata": {},
   "outputs": [
    {
     "data": {
      "text/plain": [
       "(16384, 3)"
      ]
     },
     "execution_count": 40,
     "metadata": {},
     "output_type": "execute_result"
    }
   ],
   "source": [
    "# normalize value ranges\n",
    "A = A / 255.\n",
    "\n",
    "# reshape the array\n",
    "X = np.reshape(A, (A.shape[0] * A.shape[1], A.shape[2]))\n",
    "X.shape"
   ]
  },
  {
   "cell_type": "markdown",
   "metadata": {},
   "source": [
    "### (v) Run K-means on the image data"
   ]
  },
  {
   "cell_type": "code",
   "execution_count": 41,
   "metadata": {},
   "outputs": [
    {
     "data": {
      "text/plain": [
       "(16384, 3)"
      ]
     },
     "execution_count": 41,
     "metadata": {},
     "output_type": "execute_result"
    }
   ],
   "source": [
    "# randomly initialize the centroids\n",
    "initial_centroids = init_centroids(X, 16)\n",
    "\n",
    "# run the algorithm\n",
    "idx, centroids = run_k_means(X, initial_centroids, 10)\n",
    "\n",
    "# get the closest centroids one last time\n",
    "idx = find_closest_centroids(X, centroids)\n",
    "\n",
    "# map each pixel to the centroid value\n",
    "X_recovered = centroids[idx.astype(int),:]\n",
    "X_recovered.shape"
   ]
  },
  {
   "cell_type": "code",
   "execution_count": 42,
   "metadata": {},
   "outputs": [
    {
     "data": {
      "text/plain": [
       "(128, 128, 3)"
      ]
     },
     "execution_count": 42,
     "metadata": {},
     "output_type": "execute_result"
    }
   ],
   "source": [
    "# reshape to the original dimensions\n",
    "X_recovered = np.reshape(X_recovered, (A.shape[0], A.shape[1], A.shape[2]))\n",
    "X_recovered.shape"
   ]
  },
  {
   "cell_type": "code",
   "execution_count": 43,
   "metadata": {},
   "outputs": [
    {
     "data": {
      "text/plain": [
       "<matplotlib.image.AxesImage at 0x11a0c1588>"
      ]
     },
     "execution_count": 43,
     "metadata": {},
     "output_type": "execute_result"
    },
    {
     "data": {
      "image/png": "[encoded data removed]",
      "text/plain": [
       "<matplotlib.figure.Figure at 0x11a9c9860>"
      ]
     },
     "metadata": {
      "needs_background": "light"
     },
     "output_type": "display_data"
    }
   ],
   "source": [
    "plt.imshow(X_recovered)"
   ]
  },
  {
   "cell_type": "markdown",
   "metadata": {},
   "source": [
    "To recap:\n",
    "\n",
    "* We've essentially found the top $K = 16$ colours to represent the image, \n",
    "\n",
    "\n",
    "* Assigned each pixel a new value depending on which colour cluster to which we found it belongs.\n",
    "\n",
    "\n",
    "* The original image required 24 bits for each one of the 128 x 128 pixel locations, resulting in a total size of 393,216 bits.\n",
    "\n",
    "\n",
    "* The new representation requires requires some overhead storage in the form of a dictionary of 16 colours, each of which require 24 bits, but the image itself then only requires 4 bits per pixel location.  This means the final number of bits for the reduced image is only 16 x 24 + 128 x 128 x 4 = 65,920 bits.\n",
    "\n",
    "\n",
    "* All in all we've compressed the original image by a factor of 6!"
   ]
  },
  {
   "cell_type": "markdown",
   "metadata": {},
   "source": [
    "# Part 2 - Principal component analysis\n",
    "--------------"
   ]
  },
  {
   "cell_type": "markdown",
   "metadata": {},
   "source": [
    "# Setting the Scene\n",
    "\n",
    "PCA is a linear transformation that finds the <b>\"principal components\"</b>, or directions of greatest variance, in a data set.  \n",
    "\n",
    "It can be used for dimension reduction among other things.  \n",
    "\n",
    "In this exercise we're tasked with:\n",
    "\n",
    "1. Implementing PCA and applying it to a simple 2-dimensional data set to see how it works; and\n",
    "\n",
    "\n",
    "2. Applying PCA to a bigger dataset of 5,000 face image dataset."
   ]
  },
  {
   "cell_type": "markdown",
   "metadata": {},
   "source": [
    "# The PCA algorithm\n",
    "\n",
    "## Pre-processing\n",
    "\n",
    "1. <b>Mean Normalization:</b> compute the mean of each feature $x_j^{(i)}$ and replace each feature $x_j^{(i)}$ with $x_j - \\mu_j$.  Therefore, each feature now has zero mean.\n",
    "\n",
    "\n",
    "2. <b>Feature Scaling:</b> scale each feature to have a comparable range of values, i.e. $x_j^{(i)} \\leftarrow \\frac{x_j^{(i)} - \\mu_j}{s_j}$, where $s_j$ is the range of values, e.g. the max - min values or standard deviation.\n",
    "\n",
    "## Computation\n",
    "\n",
    "3. <b>Covariance Matrix:</b> compute using this formula: $\\Sigma = \\frac{1}{m}\\sum_{i = 1}^{n}(x^{(i)})(x^{(i)})^T$ where:\n",
    "\n",
    "    (a) $m$ is number of samples.\n",
    "    \n",
    "    (b) $n$ is number of original dimensions.\n",
    "    \n",
    "    (c) $k$ is number of desired dimensions.\n",
    "    \n",
    "    (d) $x^{(i)}$ is an $n$ x $1$ vector.\n",
    "    \n",
    "    (e) $X$ is a $m$ x $n$ matrix (row-wise stored examples).  \n",
    "    \n",
    "    (f) The product of $x^{(i)}$ and $x^{(i)}$ will be an $n$ x $n$ matrix, which are the dimensions of $\\Sigma$.\n",
    "  \n",
    "   \n",
    "   \n",
    "4. <b>Eigen Vectors:</b> compute Eigen Vectors of the matrix $\\Sigma$ using a <b>Singular Value Decomposition</b> (\"<b>SVD</b>\") function, which returns three matrices, $U$, $S$ and $V$. We use only the $U$ matrix which:\n",
    "\n",
    "    (a) is also $n$ x $n$; and\n",
    "    \n",
    "    (b) has its columns being exactly the vectors $u^{(1)},...u^{(2)}, u^{(n)}$ that we want in order to plot a 1D+ surface onto which to project the original data.\n",
    "\n",
    "\n",
    "5. Take the desired $k$ number of Eigen Vectors from Step (4), i.e. $u^{(1)}, u^{(2)},..., u^{(k)}$ out of vectors $u^{(1)} - u^{(n)}$.  Add these as columns $u^{(1)}, u^{(2)}, ...u^{(k)}$ in a new matrix $U_{reduce}$\n",
    "\n",
    "\n",
    "6. <b>Calculate $z$:</b> where $z = U_{reduce}^T X$ where:\n",
    "\n",
    "    (a) $U_{reduce}^T$ transposes the column vectors $u$ into row vectors.\n",
    "    \n",
    "    (b) $U_{reduce}^T$ is $k$ x $n$.\n",
    "    \n",
    "    (c) $X$ is $n$ x $1$.\n",
    "    \n",
    "    (d) The product of $U_{reduce}^T X$ is $k$ x $1$."
   ]
  },
  {
   "cell_type": "markdown",
   "metadata": {},
   "source": [
    "## (A) PCA with Simple Dataset\n",
    "\n",
    "For Part 2(a), we are going to use PCA to reduce a simple 2D dataset to 1D."
   ]
  },
  {
   "cell_type": "markdown",
   "metadata": {},
   "source": [
    "### Step (1) - Load the Data"
   ]
  },
  {
   "cell_type": "code",
   "execution_count": 44,
   "metadata": {},
   "outputs": [
    {
     "data": {
      "text/plain": [
       "(50, 2)"
      ]
     },
     "execution_count": 44,
     "metadata": {},
     "output_type": "execute_result"
    }
   ],
   "source": [
    "data = loadmat('ex7data1.mat')\n",
    "X = data['X']\n",
    "X.shape"
   ]
  },
  {
   "cell_type": "markdown",
   "metadata": {},
   "source": [
    "$X$ is a simple 50 x 2 dimensional matrix of data points for 2 features, $x_1$ and $x_2$."
   ]
  },
  {
   "cell_type": "markdown",
   "metadata": {},
   "source": [
    "### Step (2) - Plot the Data"
   ]
  },
  {
   "cell_type": "code",
   "execution_count": 45,
   "metadata": {},
   "outputs": [
    {
     "data": {
      "text/plain": [
       "<matplotlib.collections.PathCollection at 0x11a0d3550>"
      ]
     },
     "execution_count": 45,
     "metadata": {},
     "output_type": "execute_result"
    },
    {
     "data": {
      "image/png": "[encoded data removed]",
      "text/plain": [
       "<matplotlib.figure.Figure at 0x11a0d3358>"
      ]
     },
     "metadata": {
      "needs_background": "light"
     },
     "output_type": "display_data"
    }
   ],
   "source": [
    "fig, ax = plt.subplots(figsize=(12,8))\n",
    "ax.scatter(X[:, 0], X[:, 1])"
   ]
  },
  {
   "cell_type": "markdown",
   "metadata": {},
   "source": [
    "We can describe this data as having:\n",
    "\n",
    "1. A <b>larger</b> degree of vertical variantion; and\n",
    "\n",
    "    \n",
    "2. A <b>smaller</b> degree of horiztonal variation."
   ]
  },
  {
   "cell_type": "markdown",
   "metadata": {},
   "source": [
    "### Step (3) - Define the PCA Algorithm"
   ]
  },
  {
   "cell_type": "markdown",
   "metadata": {},
   "source": [
    "The algorithm for PCA is fairly simple.  After ensuring that the data is normalized, the output is simply the singular value decomposition of the covariance matrix of the original data."
   ]
  },
  {
   "cell_type": "code",
   "execution_count": 54,
   "metadata": {},
   "outputs": [],
   "source": [
    "def pca(X):\n",
    "    \n",
    "    # Normalize the features by subtracting the mean value of each \n",
    "    # feature from the dataset and scaling each dimension so they are\n",
    "    # in the ame range\n",
    "    X = (X - X.mean()) / X.std()\n",
    "    \n",
    "    # Compute the covariance matrix\n",
    "    X = np.matrix(X)\n",
    "    cov = (X.T * X) / X.shape[0]\n",
    "    \n",
    "    # Performs SVD using in-built SVD function\n",
    "    U, S, V = np.linalg.svd(cov)\n",
    "    \n",
    "    return U, S, V"
   ]
  },
  {
   "cell_type": "markdown",
   "metadata": {},
   "source": [
    "### Step (4) - Run PCA and ID principal components ($U$)"
   ]
  },
  {
   "cell_type": "code",
   "execution_count": 56,
   "metadata": {},
   "outputs": [
    {
     "data": {
      "text/plain": [
       "(matrix([[-0.79241747, -0.60997914],\n",
       "         [-0.60997914,  0.79241747]]),\n",
       " array([ 1.43584536,  0.56415464]),\n",
       " matrix([[-0.79241747, -0.60997914],\n",
       "         [-0.60997914,  0.79241747]]))"
      ]
     },
     "execution_count": 56,
     "metadata": {},
     "output_type": "execute_result"
    }
   ],
   "source": [
    "U, S, V = pca(X)\n",
    "U, S, V"
   ]
  },
  {
   "cell_type": "markdown",
   "metadata": {},
   "source": [
    "### Step (5) - Project Data to Lower-dimensional Space\n",
    "\n",
    "Now that we have the principal components (matrix U), we can use these to project the original data into a lower-dimensional space.  For this task we'll implement a function that computes the projection and selects only the top K components, effectively reducing the number of dimensions."
   ]
  },
  {
   "cell_type": "markdown",
   "metadata": {},
   "source": [
    "#### (a) Define Projection Function"
   ]
  },
  {
   "cell_type": "code",
   "execution_count": 57,
   "metadata": {},
   "outputs": [],
   "source": [
    "def project_data(X, U, k):\n",
    "    U_reduced = U[:,:k]\n",
    "    return np.dot(X, U_reduced)"
   ]
  },
  {
   "cell_type": "markdown",
   "metadata": {},
   "source": [
    "#### (b) Run Projection"
   ]
  },
  {
   "cell_type": "code",
   "execution_count": 58,
   "metadata": {},
   "outputs": [
    {
     "data": {
      "text/plain": [
       "matrix([[-4.74689738],\n",
       "        [-7.15889408],\n",
       "        [-4.79563345],\n",
       "        [-4.45754509],\n",
       "        [-4.80263579],\n",
       "        [-7.04081342],\n",
       "        [-4.97025076],\n",
       "        [-8.75934561],\n",
       "        [-6.2232703 ],\n",
       "        [-7.04497331],\n",
       "        [-6.91702866],\n",
       "        [-6.79543508],\n",
       "        [-6.3438312 ],\n",
       "        [-6.99891495],\n",
       "        [-4.54558119],\n",
       "        [-8.31574426],\n",
       "        [-7.16920841],\n",
       "        [-5.08083842],\n",
       "        [-8.54077427],\n",
       "        [-6.94102769],\n",
       "        [-8.5978815 ],\n",
       "        [-5.76620067],\n",
       "        [-8.2020797 ],\n",
       "        [-6.23890078],\n",
       "        [-4.37943868],\n",
       "        [-5.56947441],\n",
       "        [-7.53865023],\n",
       "        [-7.70645413],\n",
       "        [-5.17158343],\n",
       "        [-6.19268884],\n",
       "        [-6.24385246],\n",
       "        [-8.02715303],\n",
       "        [-4.81235176],\n",
       "        [-7.07993347],\n",
       "        [-5.45953289],\n",
       "        [-7.60014707],\n",
       "        [-4.39612191],\n",
       "        [-7.82288033],\n",
       "        [-3.40498213],\n",
       "        [-6.54290343],\n",
       "        [-7.17879573],\n",
       "        [-5.22572421],\n",
       "        [-4.83081168],\n",
       "        [-7.23907851],\n",
       "        [-4.36164051],\n",
       "        [-6.44590096],\n",
       "        [-2.69118076],\n",
       "        [-4.61386195],\n",
       "        [-5.88236227],\n",
       "        [-7.76732508]])"
      ]
     },
     "execution_count": 58,
     "metadata": {},
     "output_type": "execute_result"
    }
   ],
   "source": [
    "Z = project_data(X, U, 1)\n",
    "Z"
   ]
  },
  {
   "cell_type": "markdown",
   "metadata": {},
   "source": [
    "### Step (6) - Recover Original Data\n",
    "\n",
    "We can also attempt to recover the original data by reversing the steps we took to project it."
   ]
  },
  {
   "cell_type": "markdown",
   "metadata": {},
   "source": [
    "#### (a) Define Recovery Function\n",
    "\n",
    "We can also increase the number of dimensions back to the data's original dimensionality using this equation:\n",
    "\n",
    "\\begin{align}\n",
    "x^{(1)}_{approx} = U_{reduce} \\cdot z^{(1)}\n",
    "\\end{align}\n",
    "\n",
    "However, note we can only return to <b>approximations</b> of our originla data."
   ]
  },
  {
   "cell_type": "code",
   "execution_count": 59,
   "metadata": {},
   "outputs": [],
   "source": [
    "def recover_data(Z, U, k):\n",
    "    U_reduced = U[:,:k]\n",
    "    return np.dot(Z, U_reduced.T)"
   ]
  },
  {
   "cell_type": "markdown",
   "metadata": {},
   "source": [
    "#### (b) Run Recovery Function"
   ]
  },
  {
   "cell_type": "code",
   "execution_count": 60,
   "metadata": {},
   "outputs": [
    {
     "data": {
      "text/plain": [
       "matrix([[ 3.76152442,  2.89550838],\n",
       "        [ 5.67283275,  4.36677606],\n",
       "        [ 3.80014373,  2.92523637],\n",
       "        [ 3.53223661,  2.71900952],\n",
       "        [ 3.80569251,  2.92950765],\n",
       "        [ 5.57926356,  4.29474931],\n",
       "        [ 3.93851354,  3.03174929],\n",
       "        [ 6.94105849,  5.3430181 ],\n",
       "        [ 4.93142811,  3.79606507],\n",
       "        [ 5.58255993,  4.29728676],\n",
       "        [ 5.48117436,  4.21924319],\n",
       "        [ 5.38482148,  4.14507365],\n",
       "        [ 5.02696267,  3.8696047 ],\n",
       "        [ 5.54606249,  4.26919213],\n",
       "        [ 3.60199795,  2.77270971],\n",
       "        [ 6.58954104,  5.07243054],\n",
       "        [ 5.681006  ,  4.37306758],\n",
       "        [ 4.02614513,  3.09920545],\n",
       "        [ 6.76785875,  5.20969415],\n",
       "        [ 5.50019161,  4.2338821 ],\n",
       "        [ 6.81311151,  5.24452836],\n",
       "        [ 4.56923815,  3.51726213],\n",
       "        [ 6.49947125,  5.00309752],\n",
       "        [ 4.94381398,  3.80559934],\n",
       "        [ 3.47034372,  2.67136624],\n",
       "        [ 4.41334883,  3.39726321],\n",
       "        [ 5.97375815,  4.59841938],\n",
       "        [ 6.10672889,  4.70077626],\n",
       "        [ 4.09805306,  3.15455801],\n",
       "        [ 4.90719483,  3.77741101],\n",
       "        [ 4.94773778,  3.80861976],\n",
       "        [ 6.36085631,  4.8963959 ],\n",
       "        [ 3.81339161,  2.93543419],\n",
       "        [ 5.61026298,  4.31861173],\n",
       "        [ 4.32622924,  3.33020118],\n",
       "        [ 6.02248932,  4.63593118],\n",
       "        [ 3.48356381,  2.68154267],\n",
       "        [ 6.19898705,  4.77179382],\n",
       "        [ 2.69816733,  2.07696807],\n",
       "        [ 5.18471099,  3.99103461],\n",
       "        [ 5.68860316,  4.37891565],\n",
       "        [ 4.14095516,  3.18758276],\n",
       "        [ 3.82801958,  2.94669436],\n",
       "        [ 5.73637229,  4.41568689],\n",
       "        [ 3.45624014,  2.66050973],\n",
       "        [ 5.10784454,  3.93186513],\n",
       "        [ 2.13253865,  1.64156413],\n",
       "        [ 3.65610482,  2.81435955],\n",
       "        [ 4.66128664,  3.58811828],\n",
       "        [ 6.1549641 ,  4.73790627]])"
      ]
     },
     "execution_count": 60,
     "metadata": {},
     "output_type": "execute_result"
    }
   ],
   "source": [
    "X_recovered = recover_data(Z, U, 1)\n",
    "X_recovered"
   ]
  },
  {
   "cell_type": "markdown",
   "metadata": {},
   "source": [
    "#### (c) Plot Recovered Data"
   ]
  },
  {
   "cell_type": "code",
   "execution_count": 63,
   "metadata": {},
   "outputs": [
    {
     "data": {
      "text/plain": [
       "<matplotlib.collections.PathCollection at 0x11b05ce80>"
      ]
     },
     "execution_count": 63,
     "metadata": {},
     "output_type": "execute_result"
    },
    {
     "data": {
      "image/png": "[encoded data removed]",
      "text/plain": [
       "<matplotlib.figure.Figure at 0x11b05cb70>"
      ]
     },
     "metadata": {
      "needs_background": "light"
     },
     "output_type": "display_data"
    }
   ],
   "source": [
    "fig, ax = plt.subplots(figsize=(12,8))\n",
    "ax.scatter([X_recovered[:, 0]], [X_recovered[:, 1]])"
   ]
  },
  {
   "cell_type": "markdown",
   "metadata": {},
   "source": [
    "Notice that the projection axis for the first principal component was basically a diagonal line through the data set.  \n",
    "\n",
    "When we reduced the data to one dimension, we lost the variations around that diagonal line, so in our reproduction everything falls along that diagonal."
   ]
  },
  {
   "cell_type": "markdown",
   "metadata": {},
   "source": [
    "## (B) PCA with a Complex Dataset\n",
    "\n",
    "Our last task in this exercise is to apply PCA to images of faces.  By using the same dimension reduction techniques we can capture the \"essence\" of the images using much less data than the original images."
   ]
  },
  {
   "cell_type": "markdown",
   "metadata": {},
   "source": [
    "### Step (1) - Load the Data"
   ]
  },
  {
   "cell_type": "code",
   "execution_count": 64,
   "metadata": {},
   "outputs": [
    {
     "data": {
      "text/plain": [
       "(5000, 1024)"
      ]
     },
     "execution_count": 64,
     "metadata": {},
     "output_type": "execute_result"
    }
   ],
   "source": [
    "faces = loadmat('ex7faces.mat')\n",
    "X = faces['X']\n",
    "X.shape"
   ]
  },
  {
   "cell_type": "markdown",
   "metadata": {},
   "source": [
    "The dataset:\n",
    "\n",
    "1. Contains $X$ of face images, each 32 x 32 in grayscale.  \n",
    "\n",
    "\n",
    "2. Each row of $X$ corresponds to one face image, a row vector of length 1024."
   ]
  },
  {
   "cell_type": "markdown",
   "metadata": {},
   "source": [
    "### Step (2) - Plot a Face\n",
    "\n",
    "The exercise code includes a function that will render the first 100 faces in the data set in a grid.  \n",
    "\n",
    "Rather than try to re-produce that here, you can look in the exercise text for an example of what they look like.  \n",
    "\n",
    "We can at least render one image fairly easily though."
   ]
  },
  {
   "cell_type": "code",
   "execution_count": 105,
   "metadata": {},
   "outputs": [
    {
     "data": {
      "text/plain": [
       "<matplotlib.image.AxesImage at 0x11ed31198>"
      ]
     },
     "execution_count": 105,
     "metadata": {},
     "output_type": "execute_result"
    },
    {
     "data": {
      "image/png": "[encoded data removed]",
      "text/plain": [
       "<matplotlib.figure.Figure at 0x11ec1c6d8>"
      ]
     },
     "metadata": {
      "needs_background": "light"
     },
     "output_type": "display_data"
    }
   ],
   "source": [
    "face = np.reshape(X[3,:], (32, 32))\n",
    "plt.imshow(face)"
   ]
  },
  {
   "cell_type": "markdown",
   "metadata": {},
   "source": [
    "Or even plot several faces if we really wish to do so:"
   ]
  },
  {
   "cell_type": "code",
   "execution_count": 104,
   "metadata": {},
   "outputs": [
    {
     "data": {
      "text/plain": [
       "<matplotlib.image.AxesImage at 0x11eac6898>"
      ]
     },
     "execution_count": 104,
     "metadata": {},
     "output_type": "execute_result"
    },
    {
     "data": {
      "image/png": "[encoded data removed]",
      "text/plain": [
       "<matplotlib.figure.Figure at 0x11ea15d68>"
      ]
     },
     "metadata": {
      "needs_background": "light"
     },
     "output_type": "display_data"
    }
   ],
   "source": [
    "faces = np.reshape(X[0:4,:], (64, 64))\n",
    "plt.imshow(faces)"
   ]
  },
  {
   "cell_type": "markdown",
   "metadata": {},
   "source": [
    "Yikes, that looks awful.  These are only 32 x 32 grayscale images though (it's also rendering sideways, but we can ignore that for now).  Anyway's let's proceed.  "
   ]
  },
  {
   "cell_type": "markdown",
   "metadata": {},
   "source": [
    "### Step (3) - Run PCA and ID the top 100 principal components."
   ]
  },
  {
   "cell_type": "code",
   "execution_count": 107,
   "metadata": {},
   "outputs": [],
   "source": [
    "U, S, V = pca(X)\n",
    "Z = project_data(X, U, 100)"
   ]
  },
  {
   "cell_type": "markdown",
   "metadata": {},
   "source": [
    "### Step (4) - Recover the Original Structure and Re-render\n",
    "\n",
    "Now we can attempt to recover the original structure and render it again."
   ]
  },
  {
   "cell_type": "code",
   "execution_count": 108,
   "metadata": {},
   "outputs": [
    {
     "data": {
      "text/plain": [
       "<matplotlib.image.AxesImage at 0x11ee73b38>"
      ]
     },
     "execution_count": 108,
     "metadata": {},
     "output_type": "execute_result"
    },
    {
     "data": {
      "image/png": "[encoded data removed]",
      "text/plain": [
       "<matplotlib.figure.Figure at 0x11ed3be80>"
      ]
     },
     "metadata": {
      "needs_background": "light"
     },
     "output_type": "display_data"
    }
   ],
   "source": [
    "X_recovered = recover_data(Z, U, 100)\n",
    "face = np.reshape(X_recovered[3,:], (32, 32))\n",
    "plt.imshow(face)"
   ]
  },
  {
   "cell_type": "markdown",
   "metadata": {},
   "source": [
    "Observe that we lost some detail, though not as much as you might expect for a 10x reduction in the number of dimensions.\n",
    "\n",
    "That concludes exercise 7.  In the final exercise we'll implement algorithms for anomaly detection and build a recommendation system using collaborative filtering."
   ]
  }
 ],
 "metadata": {
  "kernelspec": {
   "display_name": "Python 3",
   "language": "python",
   "name": "python3"
  },
  "language_info": {
   "codemirror_mode": {
    "name": "ipython",
    "version": 3
   },
   "file_extension": ".py",
   "mimetype": "text/x-python",
   "name": "python",
   "nbconvert_exporter": "python",
   "pygments_lexer": "ipython3",
   "version": "3.6.1"
  }
 },
 "nbformat": 4,
 "nbformat_minor": 1
}
