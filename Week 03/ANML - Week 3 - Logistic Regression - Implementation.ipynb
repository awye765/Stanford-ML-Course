{
 "cells": [
  {
   "cell_type": "markdown",
   "metadata": {},
   "source": [
    "# Week 3: Logistic Regression - Implementation"
   ]
  },
  {
   "cell_type": "markdown",
   "metadata": {},
   "source": [
    "# Part 1 - Logistic Regression - Binary Classification\n",
    "\n",
    "_______________"
   ]
  },
  {
   "cell_type": "markdown",
   "metadata": {},
   "source": [
    "## Setting the Scene"
   ]
  },
  {
   "cell_type": "markdown",
   "metadata": {},
   "source": [
    "In the first part of this exercise, we'll build a logistic regression model to predict whether a student gets admitted to a university:\n",
    "\n",
    "1. Suppose that you are the administrator of a university department and you want to determine each applicant's chance of admission based on their results on two exams. \n",
    "\n",
    "\n",
    "2. You have historical data from previous applicants that you can use as a training set for logistic regression.  \n",
    "\n",
    "\n",
    "3. For each training example, you have the applicant's scores on two exams and the admissions decision.  \n",
    "\n",
    "To accomplish this, we're going to build a classification model that estimates the probability of admission $y$ based on the exam scores $x$."
   ]
  },
  {
   "cell_type": "markdown",
   "metadata": {},
   "source": [
    "# Step 1 - Importing the Libraries"
   ]
  },
  {
   "cell_type": "code",
   "execution_count": 4,
   "metadata": {},
   "outputs": [],
   "source": [
    "import numpy as np\n",
    "import pandas as pd\n",
    "import matplotlib.pyplot as plt\n",
    "%matplotlib inline"
   ]
  },
  {
   "cell_type": "markdown",
   "metadata": {},
   "source": [
    "# Step 2 - Loading the Data"
   ]
  },
  {
   "cell_type": "code",
   "execution_count": 5,
   "metadata": {},
   "outputs": [
    {
     "data": {
      "text/html": [
       "<div>\n",
       "<style scoped>\n",
       "    .dataframe tbody tr th:only-of-type {\n",
       "        vertical-align: middle;\n",
       "    }\n",
       "\n",
       "    .dataframe tbody tr th {\n",
       "        vertical-align: top;\n",
       "    }\n",
       "\n",
       "    .dataframe thead th {\n",
       "        text-align: right;\n",
       "    }\n",
       "</style>\n",
       "<table border=\"1\" class=\"dataframe\">\n",
       "  <thead>\n",
       "    <tr style=\"text-align: right;\">\n",
       "      <th></th>\n",
       "      <th>Exam 1</th>\n",
       "      <th>Exam 2</th>\n",
       "      <th>Admitted</th>\n",
       "    </tr>\n",
       "  </thead>\n",
       "  <tbody>\n",
       "    <tr>\n",
       "      <th>0</th>\n",
       "      <td>34.623660</td>\n",
       "      <td>78.024693</td>\n",
       "      <td>0</td>\n",
       "    </tr>\n",
       "    <tr>\n",
       "      <th>1</th>\n",
       "      <td>30.286711</td>\n",
       "      <td>43.894998</td>\n",
       "      <td>0</td>\n",
       "    </tr>\n",
       "    <tr>\n",
       "      <th>2</th>\n",
       "      <td>35.847409</td>\n",
       "      <td>72.902198</td>\n",
       "      <td>0</td>\n",
       "    </tr>\n",
       "    <tr>\n",
       "      <th>3</th>\n",
       "      <td>60.182599</td>\n",
       "      <td>86.308552</td>\n",
       "      <td>1</td>\n",
       "    </tr>\n",
       "    <tr>\n",
       "      <th>4</th>\n",
       "      <td>79.032736</td>\n",
       "      <td>75.344376</td>\n",
       "      <td>1</td>\n",
       "    </tr>\n",
       "  </tbody>\n",
       "</table>\n",
       "</div>"
      ],
      "text/plain": [
       "      Exam 1     Exam 2  Admitted\n",
       "0  34.623660  78.024693         0\n",
       "1  30.286711  43.894998         0\n",
       "2  35.847409  72.902198         0\n",
       "3  60.182599  86.308552         1\n",
       "4  79.032736  75.344376         1"
      ]
     },
     "execution_count": 5,
     "metadata": {},
     "output_type": "execute_result"
    }
   ],
   "source": [
    "import os\n",
    "path = os.getcwd() + '\\data\\ex2data1.txt'\n",
    "data = pd.read_csv(path, header=None, names=['Exam 1', 'Exam 2', 'Admitted'])\n",
    "data.head()"
   ]
  },
  {
   "cell_type": "markdown",
   "metadata": {},
   "source": [
    "# Step 3 - Do some initial analysis!"
   ]
  },
  {
   "cell_type": "code",
   "execution_count": 6,
   "metadata": {},
   "outputs": [
    {
     "data": {
      "text/html": [
       "<div>\n",
       "<style scoped>\n",
       "    .dataframe tbody tr th:only-of-type {\n",
       "        vertical-align: middle;\n",
       "    }\n",
       "\n",
       "    .dataframe tbody tr th {\n",
       "        vertical-align: top;\n",
       "    }\n",
       "\n",
       "    .dataframe thead th {\n",
       "        text-align: right;\n",
       "    }\n",
       "</style>\n",
       "<table border=\"1\" class=\"dataframe\">\n",
       "  <thead>\n",
       "    <tr style=\"text-align: right;\">\n",
       "      <th></th>\n",
       "      <th>Exam 1</th>\n",
       "      <th>Exam 2</th>\n",
       "      <th>Admitted</th>\n",
       "    </tr>\n",
       "  </thead>\n",
       "  <tbody>\n",
       "    <tr>\n",
       "      <th>count</th>\n",
       "      <td>100.000000</td>\n",
       "      <td>100.000000</td>\n",
       "      <td>100.000000</td>\n",
       "    </tr>\n",
       "    <tr>\n",
       "      <th>mean</th>\n",
       "      <td>65.644274</td>\n",
       "      <td>66.221998</td>\n",
       "      <td>0.600000</td>\n",
       "    </tr>\n",
       "    <tr>\n",
       "      <th>std</th>\n",
       "      <td>19.458222</td>\n",
       "      <td>18.582783</td>\n",
       "      <td>0.492366</td>\n",
       "    </tr>\n",
       "    <tr>\n",
       "      <th>min</th>\n",
       "      <td>30.058822</td>\n",
       "      <td>30.603263</td>\n",
       "      <td>0.000000</td>\n",
       "    </tr>\n",
       "    <tr>\n",
       "      <th>25%</th>\n",
       "      <td>50.919511</td>\n",
       "      <td>48.179205</td>\n",
       "      <td>0.000000</td>\n",
       "    </tr>\n",
       "    <tr>\n",
       "      <th>50%</th>\n",
       "      <td>67.032988</td>\n",
       "      <td>67.682381</td>\n",
       "      <td>1.000000</td>\n",
       "    </tr>\n",
       "    <tr>\n",
       "      <th>75%</th>\n",
       "      <td>80.212529</td>\n",
       "      <td>79.360605</td>\n",
       "      <td>1.000000</td>\n",
       "    </tr>\n",
       "    <tr>\n",
       "      <th>max</th>\n",
       "      <td>99.827858</td>\n",
       "      <td>98.869436</td>\n",
       "      <td>1.000000</td>\n",
       "    </tr>\n",
       "  </tbody>\n",
       "</table>\n",
       "</div>"
      ],
      "text/plain": [
       "           Exam 1      Exam 2    Admitted\n",
       "count  100.000000  100.000000  100.000000\n",
       "mean    65.644274   66.221998    0.600000\n",
       "std     19.458222   18.582783    0.492366\n",
       "min     30.058822   30.603263    0.000000\n",
       "25%     50.919511   48.179205    0.000000\n",
       "50%     67.032988   67.682381    1.000000\n",
       "75%     80.212529   79.360605    1.000000\n",
       "max     99.827858   98.869436    1.000000"
      ]
     },
     "execution_count": 6,
     "metadata": {},
     "output_type": "execute_result"
    }
   ],
   "source": [
    "data.describe()"
   ]
  },
  {
   "cell_type": "markdown",
   "metadata": {},
   "source": [
    "# Step 4 - Plot the data"
   ]
  },
  {
   "cell_type": "markdown",
   "metadata": {},
   "source": [
    "Let's create a scatter plot of the two scores and use color coding to visualize if the example is positive (admitted) or negative (not admitted)."
   ]
  },
  {
   "cell_type": "code",
   "execution_count": 7,
   "metadata": {},
   "outputs": [
    {
     "data": {
      "text/plain": [
       "Text(0,0.5,'Exam 2 Score')"
      ]
     },
     "execution_count": 7,
     "metadata": {},
     "output_type": "execute_result"
    },
    {
     "data": {
      "image/png": "[encoded data removed]",
      "text/plain": [
       "<Figure size 864x576 with 1 Axes>"
      ]
     },
     "metadata": {},
     "output_type": "display_data"
    }
   ],
   "source": [
    "positive = data[data['Admitted'].isin([1])]\n",
    "\n",
    "# Returns only the examples whereby the student was admitted, i.e. there is a 1 in the 'Admitted' column.\n",
    "\n",
    "negative = data[data['Admitted'].isin([0])]\n",
    "\n",
    "# Returns only the examples whereby the student was rejected, i.e. there is a 0 in the 'Admitted' column.\n",
    "\n",
    "fig, ax = plt.subplots(figsize=(12,8))\n",
    "ax.scatter(positive['Exam 1'], positive['Exam 2'], s=50, c='b', marker='o', label='Admitted')\n",
    "ax.scatter(negative['Exam 1'], negative['Exam 2'], s=50, c='r', marker='x', label='Not Admitted')\n",
    "ax.legend()\n",
    "ax.set_xlabel('Exam 1 Score')\n",
    "ax.set_ylabel('Exam 2 Score')"
   ]
  },
  {
   "cell_type": "markdown",
   "metadata": {},
   "source": [
    "It looks like there is a clear decision boundary between the two classes.  Now we need to implement logistic regression so we can train a model to predict the outcome.  The equations implemented in the following code samples are detailed in \"ex2.pdf\" in the \"exercises\" folder."
   ]
  },
  {
   "cell_type": "markdown",
   "metadata": {},
   "source": [
    "# Step 5 - Define the Training Dataset & Target Variables"
   ]
  },
  {
   "cell_type": "markdown",
   "metadata": {},
   "source": [
    "Now we need to do some setup, similar to what we did in exercise 1 for linear regression."
   ]
  },
  {
   "cell_type": "markdown",
   "metadata": {},
   "source": [
    "### (a) Enable Vectorization"
   ]
  },
  {
   "cell_type": "markdown",
   "metadata": {},
   "source": [
    "As with Linear Regression, we need to add a column of ones to the training set to enable matrix multiplication for cost and gradient calculations."
   ]
  },
  {
   "cell_type": "code",
   "execution_count": 8,
   "metadata": {},
   "outputs": [],
   "source": [
    "# add a ones column - this makes the matrix multiplication work out easier\n",
    "data.insert(0, 'Ones', 1)"
   ]
  },
  {
   "cell_type": "markdown",
   "metadata": {},
   "source": [
    "Which means our dataset now looks like this:"
   ]
  },
  {
   "cell_type": "code",
   "execution_count": 9,
   "metadata": {},
   "outputs": [
    {
     "data": {
      "text/html": [
       "<div>\n",
       "<style scoped>\n",
       "    .dataframe tbody tr th:only-of-type {\n",
       "        vertical-align: middle;\n",
       "    }\n",
       "\n",
       "    .dataframe tbody tr th {\n",
       "        vertical-align: top;\n",
       "    }\n",
       "\n",
       "    .dataframe thead th {\n",
       "        text-align: right;\n",
       "    }\n",
       "</style>\n",
       "<table border=\"1\" class=\"dataframe\">\n",
       "  <thead>\n",
       "    <tr style=\"text-align: right;\">\n",
       "      <th></th>\n",
       "      <th>Ones</th>\n",
       "      <th>Exam 1</th>\n",
       "      <th>Exam 2</th>\n",
       "      <th>Admitted</th>\n",
       "    </tr>\n",
       "  </thead>\n",
       "  <tbody>\n",
       "    <tr>\n",
       "      <th>0</th>\n",
       "      <td>1</td>\n",
       "      <td>34.623660</td>\n",
       "      <td>78.024693</td>\n",
       "      <td>0</td>\n",
       "    </tr>\n",
       "    <tr>\n",
       "      <th>1</th>\n",
       "      <td>1</td>\n",
       "      <td>30.286711</td>\n",
       "      <td>43.894998</td>\n",
       "      <td>0</td>\n",
       "    </tr>\n",
       "    <tr>\n",
       "      <th>2</th>\n",
       "      <td>1</td>\n",
       "      <td>35.847409</td>\n",
       "      <td>72.902198</td>\n",
       "      <td>0</td>\n",
       "    </tr>\n",
       "    <tr>\n",
       "      <th>3</th>\n",
       "      <td>1</td>\n",
       "      <td>60.182599</td>\n",
       "      <td>86.308552</td>\n",
       "      <td>1</td>\n",
       "    </tr>\n",
       "    <tr>\n",
       "      <th>4</th>\n",
       "      <td>1</td>\n",
       "      <td>79.032736</td>\n",
       "      <td>75.344376</td>\n",
       "      <td>1</td>\n",
       "    </tr>\n",
       "  </tbody>\n",
       "</table>\n",
       "</div>"
      ],
      "text/plain": [
       "   Ones     Exam 1     Exam 2  Admitted\n",
       "0     1  34.623660  78.024693         0\n",
       "1     1  30.286711  43.894998         0\n",
       "2     1  35.847409  72.902198         0\n",
       "3     1  60.182599  86.308552         1\n",
       "4     1  79.032736  75.344376         1"
      ]
     },
     "execution_count": 9,
     "metadata": {},
     "output_type": "execute_result"
    }
   ],
   "source": [
    "data.head()"
   ]
  },
  {
   "cell_type": "markdown",
   "metadata": {},
   "source": [
    "### (b) Define the Training Data & Target Variable"
   ]
  },
  {
   "cell_type": "markdown",
   "metadata": {},
   "source": [
    "Now let's do some variable intialization."
   ]
  },
  {
   "cell_type": "code",
   "execution_count": 11,
   "metadata": {},
   "outputs": [],
   "source": [
    "# set X (training data) and y (target variable)\n",
    "\n",
    "cols = data.shape[1]\n",
    "# returns the value 4, i.e. to reflect that there are x 4 columns in our table.\n",
    "\n",
    "X = data.iloc[:,0:cols-1]\n",
    "# i.e. X includes ALL rows but only the FIRST 3 columns.  Note: index 0 is the column of \"Ones\".  In other words, X is a matrix of ALL INPUT VARIABLES, i.e. x0 (Ones), x2 (Exam 1) and x3 (Exam 2).  \n",
    "\n",
    "y = data.iloc[:,cols-1:cols]\n",
    "# i.e. y includes ALL rows but only the last column \"Admitted\".  In other words, y is a matrix of all OUTPUT VARIABLES, i.e. all Addmitted / Not Addmitted results for each training example."
   ]
  },
  {
   "cell_type": "markdown",
   "metadata": {},
   "source": [
    "### (c) Converting X and y to numpy matrices"
   ]
  },
  {
   "cell_type": "code",
   "execution_count": 12,
   "metadata": {},
   "outputs": [],
   "source": [
    "# convert to numpy arrays and initalize the parameter array theta\n",
    "X = np.array(X.values)\n",
    "y = np.array(y.values)"
   ]
  },
  {
   "cell_type": "markdown",
   "metadata": {},
   "source": [
    "### (d) Initialise theta"
   ]
  },
  {
   "cell_type": "code",
   "execution_count": null,
   "metadata": {},
   "outputs": [],
   "source": [
    "theta = np.zeros(3)"
   ]
  },
  {
   "cell_type": "markdown",
   "metadata": {},
   "source": [
    "### (e) Checking the matrices shapes"
   ]
  },
  {
   "cell_type": "markdown",
   "metadata": {},
   "source": [
    "Let's quickly check the shape of our arrays to make sure everything looks good."
   ]
  },
  {
   "cell_type": "code",
   "execution_count": null,
   "metadata": {},
   "outputs": [],
   "source": [
    "X.shape, theta.shape, y.shape"
   ]
  },
  {
   "cell_type": "markdown",
   "metadata": {},
   "source": [
    "In other words:\n",
    "    \n",
    "* X = 100 rows x 3 columns;\n",
    "\n",
    "\n",
    "* y = 100 rows x 1 column; and\n",
    "\n",
    "\n",
    "* $\\theta$ = 1 row x 3 column \n",
    "\n",
    "Note `.shape` will confirm the dimension of the array, and if the array is 1D, will simply return the number of columns in the format `(row,)`.  If the array is 2D, it will return in the format `(row, column`).\n",
    "\n"
   ]
  },
  {
   "cell_type": "markdown",
   "metadata": {},
   "source": [
    "# Step 6 - Define the Sigmoid Function"
   ]
  },
  {
   "cell_type": "markdown",
   "metadata": {},
   "source": [
    "Recall that this function is $h_\\theta(x) = g(\\theta^{(T)}x)$ where g is the sigmoid function $g(z) = \\frac{1}{1 +e^{-z}}$.\n",
    "\n",
    "The code for this is pretty simple:"
   ]
  },
  {
   "cell_type": "code",
   "execution_count": null,
   "metadata": {},
   "outputs": [],
   "source": [
    "def sigmoid(z):\n",
    "    return 1 / (1 + np.exp(-z))"
   ]
  },
  {
   "cell_type": "markdown",
   "metadata": {},
   "source": [
    "Let's do a quick sanity check to make sure the function is working."
   ]
  },
  {
   "cell_type": "code",
   "execution_count": null,
   "metadata": {},
   "outputs": [],
   "source": [
    "nums = np.arange(-10, 10, step=1)\n",
    "\n",
    "fig, ax = plt.subplots(figsize=(12,8))\n",
    "ax.plot(nums, sigmoid(nums), 'r')"
   ]
  },
  {
   "cell_type": "markdown",
   "metadata": {},
   "source": [
    "# Step 7 - Define the Cost Function"
   ]
  },
  {
   "cell_type": "markdown",
   "metadata": {},
   "source": [
    "Now we need to write the cost function to evaluate a solution.  Recall that the cost function in logistic regression is:\n",
    "\n",
    "\\begin{align}\n",
    "J(\\theta) = \\frac{1}{m}\\sum_{i=1}^{m}[-y^{(i)}log(h_\\theta(x^{(i)})) - (1 - y^{(i)})log(1 - h_\\theta(x^{(i)}))]\n",
    "\\end{align}"
   ]
  },
  {
   "cell_type": "code",
   "execution_count": null,
   "metadata": {},
   "outputs": [],
   "source": [
    "def cost(theta, X, y):\n",
    "    theta = np.matrix(theta)\n",
    "    X = np.matrix(X)\n",
    "    y = np.matrix(y)\n",
    "    first = np.multiply(-y, np.log(sigmoid(X * theta.T)))\n",
    "    second = np.multiply((1 - y), np.log(1 - sigmoid(X * theta.T)))\n",
    "    return np.sum(first - second) / (len(X))"
   ]
  },
  {
   "cell_type": "markdown",
   "metadata": {},
   "source": [
    "### (a) Intuition: mapping formula to the code"
   ]
  },
  {
   "cell_type": "markdown",
   "metadata": {},
   "source": [
    "`first = np.multiply(-y, np.log(sigmoid(X * theta.T)))` is equivalent to $-y^{(i)}log(h_\\theta(x^{(i)}))$, which calculates the cost where $y = 1$.\n",
    "\n",
    "`second = np.multiply((1 - y), np.log(1 - sigmoid(X * theta.T)))` is equivalent to $(1 - y^{(i)})log(1 - h_\\theta(x^{(i)}))$, which calculates the cost where $y = 0$.\n",
    "\n",
    "and `return np.sum(first - second) / len(X))` executes the two parts of the formula together, sums it up and applies the fraction."
   ]
  },
  {
   "cell_type": "markdown",
   "metadata": {},
   "source": [
    "### (b) Running the Cost Function"
   ]
  },
  {
   "cell_type": "markdown",
   "metadata": {},
   "source": [
    "Now let's compute the cost for our initial solution (0 values for theta)."
   ]
  },
  {
   "cell_type": "code",
   "execution_count": null,
   "metadata": {},
   "outputs": [],
   "source": [
    "cost(theta, X, y)"
   ]
  },
  {
   "cell_type": "markdown",
   "metadata": {},
   "source": [
    "# Step 8 - Define the Gradient Descent Function"
   ]
  },
  {
   "cell_type": "markdown",
   "metadata": {},
   "source": [
    "Looks good.  Next we need a function to compute the gradient (parameter updates) given our training data, labels, and some parameters theta.  Recall that the gradient of the cost is a vector of the same length as $\\theta$ where the j<sup>th</sup> element (for j = 0, 1, ... n) is defined as follows:\n",
    "\n",
    "\\begin{align}\n",
    "\\theta_j := \\theta - \\alpha \\frac{\\partial}{\\partial \\theta_j} J(\\theta_0, \\theta_1)\n",
    "\\end{align}\n",
    "\n",
    "Which can be rewritten as:\n",
    "\n",
    "\\begin{align} \n",
    "\\text{repeat until convergence \\{} \\\\\n",
    "\\theta_j & := \\theta_j - \\alpha \\dfrac{1}{m} \\sum_{i=1}^{m} (h_\\theta(x^{(i)}) - y^{(i)}) x_j^{(i)} \\\\ \n",
    "\\text{\\}}\n",
    "\\end{align}\n",
    "\n",
    "This is almost identical to the linear regression gradient descent function, except rather than swapping $\\theta^{T}x$ for $h_\\theta(x)$ in the above, we instead swap $\\frac{1}{1 +e^{-\\theta^{T}x}}$ in for $h_\\theta(x)$ in the above:\n"
   ]
  },
  {
   "cell_type": "code",
   "execution_count": null,
   "metadata": {},
   "outputs": [],
   "source": [
    "def gradient(theta, X, y):\n",
    "    theta = np.matrix(theta)\n",
    "    X = np.matrix(X)\n",
    "    y = np.matrix(y)\n",
    "    \n",
    "    parameters = int(theta.ravel().shape[1])\n",
    "    grad = np.zeros(parameters)\n",
    "    \n",
    "    error = sigmoid(X * theta.T) - y\n",
    "    # Calculates difference between predicted y value and actual y value for a given input x.  \n",
    "    # Produces column vector of error scores for each example.\n",
    "    \n",
    "    for i in range(parameters):\n",
    "        term = np.multiply(error, X[:,i])\n",
    "        # Iterates through each column in the X matrix one by one, i.e. the Ones col, the Exam 1 col and Exam 2 col.  \n",
    "        # In each such iteration each row of each such column is multipled by the corresponding row of the error vector.     \n",
    "               \n",
    "        grad[i] = np.sum(term) / len(X)\n",
    "        # Sums all values from term (i.e. the particular column of the X matrix under iteration) and divides by number of\n",
    "        # examples, in this case 100 (i.e. because m = 100).  This value is then assigned to the index of grad corresponding\n",
    "        # to the iteration number.\n",
    "    \n",
    "    return grad\n",
    "    # Returns matrix of updated parameters after one gradient step.\n",
    "\n",
    "gradient(theta, X, y)"
   ]
  },
  {
   "cell_type": "markdown",
   "metadata": {},
   "source": [
    "### (a) Breaking down the code"
   ]
  },
  {
   "cell_type": "markdown",
   "metadata": {},
   "source": [
    "#### (i) Line 2\n",
    "\n",
    "`theta = np.matrix(theta)` creates a numpy matrix containing our theta values, i.e. `matrix([0., 0., 0.])`.\n",
    "\n",
    "#### (ii) Lines 3 & 4\n",
    "\n",
    "`X = np.matrix(X)` creates a numpy matrix containing our X values.\n",
    "\n",
    "`y = np.matrix(y)` creates a numpy matrix containign our y values.\n",
    "\n",
    "#### (iii) Line 5\n",
    "    \n",
    "`parameters = int(theta.ravel().shape[1])`\n",
    "\n",
    "`.ravel()` \"<b>flattens</b>\" the theta np matrix to a single row matrix, i.e. this `[[0., 0., 0.]]` becomes this `[0., 0., 0.]`\n",
    "\n",
    "`.shape[1]` returns the <b>number of columns</b> of that matrix, i.e. 3.\n",
    "\n",
    "`.int`returns the integer value of that in brackets, i.e. 3.\n",
    "\n",
    "All of which is assigned to the variable, `parameters`.\n",
    "\n",
    "<b>Purpose:</b> is the number of weights, in our case only three, i.e. $\\theta_0$, $\\theta_1$ and $\\theta_2$.\n",
    "\n",
    "#### (iv) Line 6\n",
    "\n",
    "`grad = np.zeros(parameters)` creates a np matrix with a number of zeros equal to the number of parameters, i.e. 3 zeros so this: `[0., 0., 0.]`\n",
    " \n",
    "#### (v) Line 7\n",
    " \n",
    "`error = sigmoid(X * theta.T) - y` creates a new variable equivalent to $g(h_\\theta(x^{(i)}) - y^{(i)})$.  This is calculating the cost for each training example.  Note that we take the sigmoid of the cost.\n",
    "\n",
    "#### (vi) Line 8\n",
    "  \n",
    "`for i in range(parameters):` iterates through each column of the X matrix one by one.  As parameters = 3 this means perform all operations below it for index items 0, 1 and 2 of the X matrix, i.e. Ones col, Exam 1 col and Exam 2 col respectively.\n",
    "\n",
    "#### (vii) Line 9\n",
    "\n",
    "`term = np.multiply(error, X[:,i])` is the equivalent of $(h_\\theta(x^{(i)}) - y^{(i)})x_j^{(i)}$\n",
    "\n",
    "To recap, this multiples each row of the errors vector (`error`) against each of the corresponding $x^{i}$ feature rows (`X[:,j]`) in X. \n",
    "\n",
    "So in each sub-iteration (i.e. within the second for loop `for j in range(parameters)`):\n",
    "\n",
    "1. This is `error` x `X[:,0]`, which is each row of the error vector multiplied by each row of the $x_0$ vector (i.e. the \"ones\"); \n",
    "\n",
    "\n",
    "2. This is `error` x `X[:,1]`, which is each row of the error vector multiplied by each row of the $x_1$ vector (i.e. the \"Exam 1\" figures); and\n",
    "\n",
    "\n",
    "3. This is `error` x `X[:,2]`, which is each row of the error vector multiplied by each row of the $x_2$ vector (i.e. the \"Exam 2\" figures).\n",
    "\n",
    "#### (viii) Line 10\n",
    "\n",
    "`grad[i] = np.sum(term) / len(X)` is the equivalent of $\\frac{1}{m}\\sum J(h_\\theta(x^{(i)}) - y^{(i)})x_j^{(i)}$\n"
   ]
  },
  {
   "cell_type": "markdown",
   "metadata": {},
   "source": [
    "#### Note\n",
    "\n",
    "We don't actually perform gradient descent in this function - we just compute a <b>single</b> gradient step.  \n",
    "\n",
    "In the Andrew Ng exercise, an Octave function called \"fminunc\" is used to optimize the parameters given to the cost and gradient functions.  \n",
    "\n",
    "Since we're using Python, we can use SciPy's \"optimize\" namespace to do the same thing."
   ]
  },
  {
   "cell_type": "markdown",
   "metadata": {},
   "source": [
    "# Step 9 - Running Gradient Descent (a single step)"
   ]
  },
  {
   "cell_type": "markdown",
   "metadata": {},
   "source": [
    "Let's look at a single call to the gradient method using our data and initial paramter values of 0."
   ]
  },
  {
   "cell_type": "code",
   "execution_count": null,
   "metadata": {},
   "outputs": [],
   "source": [
    "result = gradient(theta, X, y)\n",
    "result"
   ]
  },
  {
   "cell_type": "markdown",
   "metadata": {},
   "source": [
    "# Step 10 - Using SciPy's TNC to optimise parameters"
   ]
  },
  {
   "cell_type": "markdown",
   "metadata": {},
   "source": [
    "Now we can use SciPy's truncated newton (TNC) implementation to find the optimal parameters."
   ]
  },
  {
   "cell_type": "code",
   "execution_count": null,
   "metadata": {},
   "outputs": [],
   "source": [
    "import scipy.optimize as opt\n",
    "result = opt.fmin_tnc(func=cost, x0=theta, fprime=gradient, args=(X, y))\n",
    "result"
   ]
  },
  {
   "cell_type": "markdown",
   "metadata": {},
   "source": [
    "Let's explain these results:\n",
    "\n",
    "1. <b>`[-25.16131872,   0.20623159,   0.20147149]`</b> are the optimised parameters.\n",
    "<p>\n",
    "    \n",
    "2. <b>36</b> represents the number of function evaluations (aka gradient \"steps\" or \"iterations\") necessary to arrive at the optimal parameters.\n",
    "    \n",
    "<p>\n",
    "3. <b>0</b> is a \"return code\" that means \"Local minimum reached\".  Other Return codes can be found [here](http://pageperso.lif.univ-mrs.fr/~francois.denis/IAAM1/scipy-html-1.0.0/generated/scipy.optimize.fmin_tnc.html)."
   ]
  },
  {
   "cell_type": "markdown",
   "metadata": {},
   "source": [
    "# Step 11 - Checking the cost function with optimised parameters\n",
    "\n",
    "\n",
    "Let's see what the our cost looks like with this solution."
   ]
  },
  {
   "cell_type": "code",
   "execution_count": null,
   "metadata": {},
   "outputs": [],
   "source": [
    "cost(result[0], X, y)"
   ]
  },
  {
   "cell_type": "markdown",
   "metadata": {},
   "source": [
    "# Step 12 - Define Decision Boundary Function"
   ]
  },
  {
   "cell_type": "markdown",
   "metadata": {},
   "source": [
    "Next we need a function that can map the probability that given an input $x$ it corresponds to $y = 1$ to a corresponding class, i.e. pass or fail.\n",
    "\n",
    "To do so, we calculate the probability that $y = 1$ for each sample, and then use a decision boundary to map that value to either 1 (pass) or 0 (fail):"
   ]
  },
  {
   "cell_type": "code",
   "execution_count": null,
   "metadata": {},
   "outputs": [],
   "source": [
    "def predict(theta, X):\n",
    "    probability = sigmoid(X * theta.T)\n",
    "    # Calculates probability that y = 1 for a given set of x values.\n",
    "    return [1 if x >= 0.5 else 0 for x in probability]\n",
    "    # Sets the decision boundary, i.e. mapping the probability to a binary class, in this case 1 or 0."
   ]
  },
  {
   "cell_type": "markdown",
   "metadata": {},
   "source": [
    "# Step 13 - Plot the Decision Boundary"
   ]
  },
  {
   "cell_type": "code",
   "execution_count": null,
   "metadata": {},
   "outputs": [],
   "source": [
    "positive = data[data['Admitted'].isin([1])]\n",
    "\n",
    "# Returns only the examples whereby the student was admitted, i.e. there is a 1 in the 'Admitted' column.\n",
    "\n",
    "negative = data[data['Admitted'].isin([0])]\n",
    "\n",
    "# Returns only the examples whereby the student was rejected, i.e. there is a 0 in the 'Admitted' column.\n",
    "\n",
    "dec_boundary_plot_x = [np.min(X[:,1]-2), np.max(X[:,2]+2)]\n",
    "\n",
    "dec_boundary_plot_y = -1/(result[0][2])*(result[0][0] + np.dot(result[0][1],dec_boundary_plot_x))\n",
    "\n",
    "fig, ax = plt.subplots(figsize=(12,8))\n",
    "ax.scatter(positive['Exam 1'], positive['Exam 2'], s=50, c='b', marker='o', label='Admitted')\n",
    "ax.scatter(negative['Exam 1'], negative['Exam 2'], s=50, c='r', marker='x', label='Not Admitted')\n",
    "decision_boundary = plt.plot(dec_boundary_plot_x, dec_boundary_plot_y)\n",
    "ax.legend()\n",
    "ax.set_xlabel('Exam 1 Score')\n",
    "ax.set_ylabel('Exam 2 Score')"
   ]
  },
  {
   "cell_type": "markdown",
   "metadata": {},
   "source": [
    "# Step 14 - Scoring the Accuracy of our Classifier"
   ]
  },
  {
   "cell_type": "markdown",
   "metadata": {},
   "source": [
    "We can then use this function to score the training accuracy of our classifier."
   ]
  },
  {
   "cell_type": "code",
   "execution_count": null,
   "metadata": {},
   "outputs": [],
   "source": [
    "theta_min = np.matrix(result[0])\n",
    "# Creates matrix of the optimised parameters.\n",
    "\n",
    "predictions = predict(theta_min, X)\n",
    "# Takes the optimised paramters and X as its arguments and produces a vector of 0s and 1s corresponding to the predicted\n",
    "# values of y our algorithm generates.\n",
    "\n",
    "correct = [1 if ((a == 1 and b == 1) or (a == 0 and b == 0)) else 0 for (a, b) in zip(predictions, y)]\n",
    "# Compares result in predictions vector (a) against the actual y values (b).  If they match, returns 1.  If they do not\n",
    "# match, returns 0.  Produces new vector of 0s and 1s representing whether our algorithm was correct / incorrect for each \n",
    "# prediction. See also here: https://www.codecademy.com/en/forum_questions/526269b2f10c604fc500b53c\n",
    "\n",
    "accuracy = (sum(map(int, correct)) % len(correct))\n",
    "# Calculates what % of our predicted y results were in fact correct when compared with the actual y values.  Concretely\n",
    "# sum(map(int, correct)) counts the number of results that were correct, i.e. all the 1s, which returns a total of 89. \n",
    "# And len(correct) returns the length of the correct vector, i.e. 100 items.  % returns 89 as a % of 100, i.e. 89%\n",
    "\n",
    "print ('accuracy = {0}%'.format(accuracy))"
   ]
  },
  {
   "cell_type": "markdown",
   "metadata": {},
   "source": [
    "Our logistic regression classifer correctly predicted if a student was admitted or not 89% of the time.  Not bad!  Keep in mind that this is training set accuracy though.  We didn't keep a hold-out set or use cross-validation to get a true approximation of the accuracy so this number is likely higher than its true perfomance (this topic is covered in a later exercise)."
   ]
  },
  {
   "cell_type": "markdown",
   "metadata": {},
   "source": [
    "# Part 2 - Regularised Logistic Regression\n",
    "-------------------"
   ]
  },
  {
   "cell_type": "markdown",
   "metadata": {},
   "source": [
    "#### Setting the Scene\n",
    "\n",
    "Suppose you are the product manager of the factory and you have the test results for some microchips on two different tests.  From these two tests, you would like to determine whether the microchips should be accepted or rejected.  To help you make the decision, you have a dataset of test results on past microchips, from which you can build a logistic regression model."
   ]
  },
  {
   "cell_type": "markdown",
   "metadata": {},
   "source": [
    "# Step 1 - Import the Data\n",
    "\n",
    "Similar to part 1, let's start by visualizing the data."
   ]
  },
  {
   "cell_type": "code",
   "execution_count": null,
   "metadata": {},
   "outputs": [],
   "source": [
    "import os\n",
    "path = os.getcwd() + '\\data\\ex2data2.txt'\n",
    "data2 = pd.read_csv(path, header=None, names=['Test 1', 'Test 2', 'Accepted'])\n",
    "data2.head()"
   ]
  },
  {
   "cell_type": "markdown",
   "metadata": {},
   "source": [
    "Which reflects the following dimensions:\n",
    "    \n",
    "* Test 1 (i.e. $x_1$) = 100 rows x 1 column;\n",
    "\n",
    "\n",
    "* Test 2 (i.e. $x_2$) = 100 rows x 1 column; \n",
    "\n",
    "\n",
    "* Test 1 and Test 2 (i.e. $X$) = 100 rows x 2 columns; and\n",
    "\n",
    "\n",
    "* Accepted (i.e. $y$) = 100 rows x 1 column.\n",
    "\n",
    "Note, once we add the additional column of ones for the $x_0$ feature (per later step below), the dimensions for $X$ alter as follows: \n",
    "\n",
    "* 100 rows x 2 columns &rightarrow; 100 rows x 3 columns."
   ]
  },
  {
   "cell_type": "markdown",
   "metadata": {},
   "source": [
    "# Step 2 - Visualise the Data"
   ]
  },
  {
   "cell_type": "code",
   "execution_count": null,
   "metadata": {},
   "outputs": [],
   "source": [
    "positive = data2[data2['Accepted'].isin([1])]\n",
    "negative = data2[data2['Accepted'].isin([0])]\n",
    "\n",
    "fig, ax = plt.subplots(figsize=(12,8))\n",
    "ax.scatter(positive['Test 1'], positive['Test 2'], s=50, c='b', marker='o', label='Accepted')\n",
    "ax.scatter(negative['Test 1'], negative['Test 2'], s=50, c='r', marker='x', label='Rejected')\n",
    "ax.legend()\n",
    "ax.set_xlabel('Test 1 Score')\n",
    "ax.set_ylabel('Test 2 Score')"
   ]
  },
  {
   "cell_type": "markdown",
   "metadata": {},
   "source": [
    "This data looks a bit more complicated than the previous example.  In particular, you'll notice that there is no linear decision boundary that will perform well on this data.  "
   ]
  },
  {
   "cell_type": "markdown",
   "metadata": {},
   "source": [
    "# Step 3 - Create Polynomial Features\n",
    "\n",
    "One way to deal with this using a linear technique like logistic regression is to construct features that are derived from polynomials of the original features.  Let's start by creating a bunch of polynomial features."
   ]
  },
  {
   "cell_type": "code",
   "execution_count": null,
   "metadata": {},
   "outputs": [],
   "source": [
    "degree = 7\n",
    "\n",
    "x1 = data2['Test 1']\n",
    "# The x1 values\n",
    "\n",
    "x2 = data2['Test 2']\n",
    "# The x2 values\n",
    "\n",
    "data2.insert(3, 'Ones', 1)\n",
    "# .insert(3, 'Ones', 1) is adding as new index 3, a column headed 'Ones' with each element to be added being eqaul to 1.  # I.e. it adds to x0 = 1 values for each sample.\n",
    "\n",
    "data2\n",
    "for i in range(1, degree):\n",
    "#Iterate from 1 - (degree-1), i.e. from 1 - 5 (inclusive)\n",
    "\n",
    "    for j in range(0, i+1):\n",
    "    # Iterate from 0 - (i-1) (inclusive)\n",
    "        data2['F' + str(i) + str(j)] = np.power(x1, i-j) * np.power(x2, j)\n",
    "        # First decides exponent for x1 using current values of (i) and (j)\n",
    "        # Second decides exponent for x2 using current value of (j)\n",
    "        # Third multiplies x1^n . x2^n to provide a new polynomial feature value\n",
    "        # Fourth value assigned to new column headed with current value \n",
    "\n",
    "data2.drop('Test 1', axis=1, inplace=True)\n",
    "data2.drop('Test 2', axis=1, inplace=True)\n",
    "\n",
    "data2"
   ]
  },
  {
   "cell_type": "markdown",
   "metadata": {},
   "source": [
    "Which equates to the below, where $F10 = x_1$, $F11 = x_2$, $F20 = x_1^{2}$, ... $F66 = x_2^{6}$\n",
    "\n",
    "<img src=\"../Images/polynomials.png\" width=100%/>"
   ]
  },
  {
   "cell_type": "markdown",
   "metadata": {},
   "source": [
    "# Step 4 - Initialise the Variables"
   ]
  },
  {
   "cell_type": "markdown",
   "metadata": {},
   "source": [
    "Initialize variables like we did in part 1."
   ]
  },
  {
   "cell_type": "code",
   "execution_count": null,
   "metadata": {},
   "outputs": [],
   "source": [
    "# set X and y (remember from above that we moved the label to column 0)\n",
    "cols = data2.shape[1]\n",
    "\n",
    "X2 = data2.iloc[:,1:cols]\n",
    "# Creates array of all X feature values\n",
    "\n",
    "y2 = data2.iloc[:,0:1]\n",
    "# Creates array of all y label values\n",
    "\n",
    "# Below converts X2 and y2 from arrays to numpy arrays and initalize the parameter array theta\n",
    "X2 = np.array(X2.values)\n",
    "y2 = np.array(y2.values)\n",
    "theta2 = np.zeros(28)"
   ]
  },
  {
   "cell_type": "markdown",
   "metadata": {},
   "source": [
    "Now let's check the shape of `X2`, `y2` and `theta2`:"
   ]
  },
  {
   "cell_type": "code",
   "execution_count": null,
   "metadata": {},
   "outputs": [],
   "source": [
    "print(X2.shape)\n",
    "print(y2.shape)\n",
    "print(theta2.shape)\n",
    "\n",
    "# X2_shape = np.array([X2.shape])\n",
    "# y2_shape = np.array([y2.shape])\n",
    "# theta2_np = np.array([[theta2]])\n",
    "# theta2_shape = theta2_np.shape\n",
    "# theta2_shape[2]\n",
    "\n",
    "\n",
    "# print(\"X2 has {0} rows and {1} columns\".format(X2_shape[0][0], X2_shape[0][1]))\n",
    "# print(\"y2 has {0} rows and {1} columns\".format(y2_shape[0][0], y2_shape[0][1]))\n",
    "# print(\"theta2 has {0} rows and {1} columns\".format(theta2_shape[1], theta2_shape[2]))"
   ]
  },
  {
   "cell_type": "markdown",
   "metadata": {},
   "source": [
    "In other words:\n",
    "    \n",
    "* X2 has 118 rows and 28 columns\n",
    "\n",
    "\n",
    "* y2 has 118 rows and 1 column\n",
    "\n",
    "\n",
    "* theta2 has 1 row and 28 columns"
   ]
  },
  {
   "cell_type": "markdown",
   "metadata": {},
   "source": [
    "# Step 5 - Include the Regularization Term"
   ]
  },
  {
   "cell_type": "markdown",
   "metadata": {},
   "source": [
    "Now we need to modify the cost and gradient functions from part 1 to include the regularization term.  First the cost function:\n",
    "\n",
    "## (a) Regularizing the Cost Function"
   ]
  },
  {
   "cell_type": "code",
   "execution_count": null,
   "metadata": {},
   "outputs": [],
   "source": [
    "def costReg(theta, X, y, learningRate):\n",
    "    # Below three lines format everything to numpy matrices\n",
    "    theta = np.matrix(theta)\n",
    "    X = np.matrix(X)\n",
    "    y = np.matrix(y)\n",
    "    \n",
    "    # Below is the left side of the cost function equation for where y = 1\n",
    "    first = np.multiply(-y, np.log(sigmoid(X * theta.T)))\n",
    "    \n",
    "    # Below is the right side of the cost function for where y = 1\n",
    "    second = np.multiply((1 - y), np.log(1 - sigmoid(X * theta.T)))\n",
    "    \n",
    "    reg = (learningRate / 2 * len(X)) * np.sum(np.power(theta[:,1:theta.shape[1]], 2))\n",
    "    # Is the regularisation term, explained below.\n",
    "    \n",
    "    return np.sum(first - second) / (len(X)) + reg"
   ]
  },
  {
   "cell_type": "markdown",
   "metadata": {},
   "source": [
    "Notice the `reg` term in the equation, which is equivalent to the $+\\lambda \\sum_{j=1}^{m} \\theta_j^2$ at the far right in the below:\n",
    "\n",
    "\\begin{align}\n",
    "J_{reg}(\\theta) = \\frac{1}{2m} \\bigg[-y^{(i)}log(h_\\theta(x^{(i)})) - (1 - y^{(i)})log(1 - h_\\theta(x^{(i)})) + \\lambda \\sum_{j=1}^{m} \\theta_j^2\\bigg]\n",
    "\\end{align}\n",
    "\n",
    "To recap, the `reg` term works as follows:\n",
    "\n",
    "1. Recall that by convention we do not process $x_0$, hence `theta[:,1]` avoids index $0$ of the $\\theta$ matrix, i.e. $x_0$, and instead returns index $1$ of the $\\theta$ matrix, which corresponds to $x_1$.  \n",
    "\n",
    "\n",
    "2. `theta.shape[1]` returns the number of columns in the $\\theta$ matrix, in this case $28$.\n",
    "\n",
    "\n",
    "3. Altogether then, `np.power(theta[:,1:theta.shape[1]], 2))` squares every $\\theta$ value from index $1$ to index $n$.\n",
    "\n",
    "\n",
    "4. `np.sum(np.power(theta[:,1:theta.shape[1]], 2))` sums each squared valued of $\\theta$ resulting from step (3) above.\n",
    "\n",
    "\n",
    "5. `learningRate` is $\\lambda$.  This is a hyperparameter, i.e. a configuration external to the model and whose value cannot be estimated from the data, and is often tuned by the human.  It controls the effectiveness of the regularization term. "
   ]
  },
  {
   "cell_type": "markdown",
   "metadata": {},
   "source": [
    "## (b) Regularizing the Gradient Function\n",
    "\n",
    "Now we need to add regularization to the gradient function.  Recall that it looks like this:\n",
    "\n",
    "\n",
    "Plugging the above into the gradient descent algorithm looks like this:\n",
    "\n",
    "\\begin{align*} & \\text{repeat until convergence:} \\; \\lbrace \\newline \\; & \n",
    "\\theta_0 := \\theta_0 - \\alpha \\frac{1}{m} \\sum\\limits_{i=1}^{m} (h_\\theta(x^{(i)}) - y^{(i)}) \\cdot x_0^{(i)} \\newline \\; & \n",
    "\\cdots  \\newline \\; & \n",
    "\\theta_j := \\theta_j - \\alpha \\frac{1}{m} \\sum\\limits_{i=1}^{m} (h_\\theta(x^{(i)}) - y^{(i)}) \\cdot x_j^{(i)} + \\frac{\\lambda}{m}\\theta_j & \\newline \n",
    "\\rbrace \\end{align*}\n",
    "\n",
    "Note that the first $\\theta_0$ is left unprocessed.  Rearranging the above can make it simpler:\n",
    "\n",
    "\\begin{align*} & \\text{repeat until convergence:} \\; \\lbrace \\newline \\; & \n",
    "\\theta_0 := \\theta_0 - \\alpha \\frac{1}{m} \\sum\\limits_{i=1}^{m} (h_\\theta(x^{(i)}) - y^{(i)}) \\cdot x_0^{(i)} \\newline \\; & \n",
    "\\cdots  \\newline \\; & \n",
    "\\theta_j := \\theta_j(1 - \\alpha \\frac{\\lambda}{m}) - \\alpha \\frac{1}{m} \\sum\\limits_{i=1}^{m} (h_\\theta(x^{(i)}) - y^{(i)}) \\cdot x_j^{(i)} & \\newline \n",
    "\\rbrace \\end{align*}\n",
    "\n",
    "This is implemented at lines 16 - 19 below (and also the above lines where they calculate the constituent ingredients obviously!):"
   ]
  },
  {
   "cell_type": "code",
   "execution_count": null,
   "metadata": {},
   "outputs": [],
   "source": [
    "def gradientReg(theta, X, y, learningRate):\n",
    "    theta = np.matrix(theta)\n",
    "    X = np.matrix(X)\n",
    "    y = np.matrix(y)\n",
    "    \n",
    "    parameters = int(theta.ravel().shape[1])\n",
    "    grad = np.zeros(parameters)\n",
    "    \n",
    "    error = sigmoid(X * theta.T) - y\n",
    "    \n",
    "    for i in range(parameters):\n",
    "        term = np.multiply(error, X[:,i])\n",
    "        \n",
    "        # As with the regularised cost function above, by convention we similarly don't process x_0 when applying\n",
    "        # regularised gradient descent\n",
    "        if (i == 0):\n",
    "            grad[i] = np.sum(term) / len(X)\n",
    "        else:\n",
    "            grad[i] = (np.sum(term) / len(X)) + ((learningRate / len(X)) * theta[:,i])\n",
    "    \n",
    "    return grad"
   ]
  },
  {
   "cell_type": "markdown",
   "metadata": {},
   "source": [
    "# Step 6 - Initialise the Learning Rate"
   ]
  },
  {
   "cell_type": "markdown",
   "metadata": {},
   "source": [
    "Let's initialize our learning rate to a sensible value.  We can play with this later if necessary (i.e. if the penalization is too strong or not strong enough)."
   ]
  },
  {
   "cell_type": "code",
   "execution_count": null,
   "metadata": {},
   "outputs": [],
   "source": [
    "learningRate = 1"
   ]
  },
  {
   "cell_type": "markdown",
   "metadata": {},
   "source": [
    "# Step 7 - Running our Regularized functions!\n",
    "\n",
    "Now let's try calling our new regularized functions with the default (0) values for theta to make sure the calculations are working.\n",
    "\n",
    "## (a) Running the Regularized Cost Function"
   ]
  },
  {
   "cell_type": "code",
   "execution_count": null,
   "metadata": {},
   "outputs": [],
   "source": [
    "costReg(theta2, X2, y2, learningRate)"
   ]
  },
  {
   "cell_type": "markdown",
   "metadata": {},
   "source": [
    "## (b) Running the Regularized Gradient Descent Function"
   ]
  },
  {
   "cell_type": "code",
   "execution_count": null,
   "metadata": {},
   "outputs": [],
   "source": [
    "gradientReg(theta2, X2, y2, learningRate)"
   ]
  },
  {
   "cell_type": "markdown",
   "metadata": {},
   "source": [
    "# Step 8 - Optimising our Functions\n",
    "\n",
    "Now we can use the same optimization function from part 1 to compute the optimal solution for all $theta$ values, i.e. from $\\theta_0$ to $\\theta_{28}$:"
   ]
  },
  {
   "cell_type": "code",
   "execution_count": null,
   "metadata": {},
   "outputs": [],
   "source": [
    "result2 = opt.fmin_tnc(func=costReg, x0=theta2, fprime=gradientReg, args=(X2, y2, learningRate))\n",
    "result2"
   ]
  },
  {
   "cell_type": "markdown",
   "metadata": {},
   "source": [
    "# Step 9 - Predicting our $y$ values and scoring accuracy!\n",
    "\n",
    "Finally, we can use the prediction function from part 1 to see how accurate our solution is on the training data."
   ]
  },
  {
   "cell_type": "code",
   "execution_count": null,
   "metadata": {},
   "outputs": [],
   "source": [
    "theta_min = np.matrix(result2[0])\n",
    "predictions = predict(theta_min, X2)\n",
    "correct = [1 if ((a == 1 and b == 1) or (a == 0 and b == 0)) else 0 for (a, b) in zip(predictions, y2)]\n",
    "accuracy = (sum(map(int, correct)) % len(correct))\n",
    "\n",
    "print(\"accuracy = {}%\".format(accuracy))"
   ]
  },
  {
   "cell_type": "markdown",
   "metadata": {},
   "source": [
    "# Step 10 - Using scikit-learn\n",
    "\n",
    "Although we implemented these algorithms from scratch, it's worth noting that we could also use a high-level python library like scikit-learn to solve this problem."
   ]
  },
  {
   "cell_type": "code",
   "execution_count": null,
   "metadata": {},
   "outputs": [],
   "source": [
    "from sklearn import linear_model\n",
    "model = linear_model.LogisticRegression(penalty='l2', C=1.0)\n",
    "model.fit(X2, y2.ravel())"
   ]
  },
  {
   "cell_type": "code",
   "execution_count": null,
   "metadata": {},
   "outputs": [],
   "source": [
    "score = model.score(X2, y2)\n",
    "print(\"accuracy = {:.0%}%\".format(score))"
   ]
  },
  {
   "cell_type": "markdown",
   "metadata": {},
   "source": [
    "The accuracy is much lower than what we just computed, but keep in mind this result is using the default parameters provided by scikit-learn.  We'd likely need to do some parameter tuning to get the same accuracy that we obtained with our earlier result.\n",
    "\n",
    "That's all for Exercise 2!  Stay tuned for the next exercise where we'll tackle multi-class image classification."
   ]
  },
  {
   "cell_type": "markdown",
   "metadata": {},
   "source": [
    "## Useful Resources"
   ]
  },
  {
   "cell_type": "markdown",
   "metadata": {},
   "source": [
    "General intro, overview and explanation of Logistic Regression:\n",
    "\n",
    "- https://www.internalpointers.com/post/introduction-classification-and-logistic-regression\n",
    "    \n",
    "Detailed explanation of the Logistic Regression Cost Function:\n",
    "    \n",
    "- https://www.internalpointers.com/post/cost-function-logistic-regression\n",
    "\n",
    "Detailed explanation of Regularisation for Logistic Regression:\n",
    "\n",
    "- https://www.internalpointers.com/post/problem-overfitting-machine-learning-algorithms \n",
    "- http://enhancedatascience.com/2017/07/04/machine-learning-explained-regularization/ \n",
    "\n",
    "Detailed general overview:\n",
    "\n",
    "- https://towardsdatascience.com/logistic-regression-detailed-overview-46c4da4303bc\n",
    "- https://towardsdatascience.com/understanding-logistic-regression-9b02c2aec102\n",
    "\n",
    "Useful explainer when results go awry due to output of `X * theta.T` produces either very large or very small values, which results in NaN or Infinity values, and errors the code:\n",
    "\n",
    "- https://stackoverflow.com/questions/35419882/cost-function-in-logistic-regression-gives-nan-as-a-result\n",
    "\n",
    "Another python example\n",
    "\n",
    "- https://medium.com/analytics-vidhya/python-implementation-of-andrew-ngs-machine-learning-course-part-2-1-1a666f049ad6"
   ]
  }
 ],
 "metadata": {
  "kernelspec": {
   "display_name": "Python 3",
   "language": "python",
   "name": "python3"
  },
  "language_info": {
   "codemirror_mode": {
    "name": "ipython",
    "version": 3
   },
   "file_extension": ".py",
   "mimetype": "text/x-python",
   "name": "python",
   "nbconvert_exporter": "python",
   "pygments_lexer": "ipython3",
   "version": "3.6.5"
  }
 },
 "nbformat": 4,
 "nbformat_minor": 1
}
