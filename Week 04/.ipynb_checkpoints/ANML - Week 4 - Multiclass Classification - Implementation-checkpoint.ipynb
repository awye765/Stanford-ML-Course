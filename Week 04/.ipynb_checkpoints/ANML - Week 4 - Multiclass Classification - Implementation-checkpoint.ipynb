{
 "cells": [
  {
   "cell_type": "markdown",
   "metadata": {},
   "source": [
    "# Week 4: Multi-Class Classification - Implementation"
   ]
  },
  {
   "cell_type": "markdown",
   "metadata": {},
   "source": [
    "This notebook covers a Python-based solution for part 1 of the third programming exercise of the machine learning class on Coursera.  "
   ]
  },
  {
   "cell_type": "markdown",
   "metadata": {
    "collapsed": true
   },
   "source": [
    "## Setting the Scene\n",
    "\n",
    "For this exercise we'll use logistic regression to recognize images of hand-written digits (0 to 9).  We'll be extending the implementation of logistic regression we wrote in week 3, and apply it to one-vs-all classification.  \n",
    "\n",
    "<b>Note:</b> the dataset's $y$ values map the digit \"$0$\" to label \"$10$\" to avoid confusions with indexing."
   ]
  },
  {
   "cell_type": "markdown",
   "metadata": {},
   "source": [
    "# Step 1 - Importing the Libraries"
   ]
  },
  {
   "cell_type": "code",
   "execution_count": 1,
   "metadata": {},
   "outputs": [],
   "source": [
    "import numpy as np\n",
    "import pandas as pd\n",
    "import matplotlib.pyplot as plt\n",
    "from scipy.io import loadmat\n",
    "%matplotlib inline"
   ]
  },
  {
   "cell_type": "markdown",
   "metadata": {},
   "source": [
    "# Step 2 - Loading the Data"
   ]
  },
  {
   "cell_type": "code",
   "execution_count": 2,
   "metadata": {},
   "outputs": [
    {
     "data": {
      "text/plain": [
       "{'__header__': b'MATLAB 5.0 MAT-file, Platform: GLNXA64, Created on: Sun Oct 16 13:09:09 2011',\n",
       " '__version__': '1.0',\n",
       " '__globals__': [],\n",
       " 'X': array([[0., 0., 0., ..., 0., 0., 0.],\n",
       "        [0., 0., 0., ..., 0., 0., 0.],\n",
       "        [0., 0., 0., ..., 0., 0., 0.],\n",
       "        ...,\n",
       "        [0., 0., 0., ..., 0., 0., 0.],\n",
       "        [0., 0., 0., ..., 0., 0., 0.],\n",
       "        [0., 0., 0., ..., 0., 0., 0.]]),\n",
       " 'y': array([[10],\n",
       "        [10],\n",
       "        [10],\n",
       "        ...,\n",
       "        [ 9],\n",
       "        [ 9],\n",
       "        [ 9]], dtype=uint8)}"
      ]
     },
     "execution_count": 2,
     "metadata": {},
     "output_type": "execute_result"
    }
   ],
   "source": [
    "data = loadmat('ex3data1.mat')\n",
    "data"
   ]
  },
  {
   "cell_type": "markdown",
   "metadata": {},
   "source": [
    "# Step 3 - Do some initial analysis!\n",
    "\n",
    "As always, let's prioritise checking the dimensionality of our data:"
   ]
  },
  {
   "cell_type": "code",
   "execution_count": 3,
   "metadata": {},
   "outputs": [
    {
     "data": {
      "text/plain": [
       "((5000, 400), (5000, 1))"
      ]
     },
     "execution_count": 3,
     "metadata": {},
     "output_type": "execute_result"
    }
   ],
   "source": [
    "data['X'].shape, data['y'].shape"
   ]
  },
  {
   "cell_type": "markdown",
   "metadata": {},
   "source": [
    "This tells us the $X$ matrix of features is $5000$ rows x $400$ columns and that the $y$ vector of labels is $5000$ rows x $1$ column.\n",
    "\n",
    "This is because:\n",
    "\n",
    "* $X$ is a matrix comprising $5000$ example images (the \"<b>Sample Matrix</b>\").\n",
    "\n",
    "\n",
    "* Each of those $5000$ images is itself represented by a $400$ feature dimensional vector, i.e. each row in $X$ represents a single image $x^i$ (each an \"<b>Image Vector</b>\").\n",
    "\n",
    "\n",
    "* Each feature in each Image Vector $x^i$, i.e. from $x_0$, $x_1$, ... $x_{400}$, is a numerical value corresponding to the grayscale intensities of each pixel in each original 20 x 20 pixel image, ranging from between 0 (white) to 1 (black).\n",
    "\n",
    "\n",
    "* The class labels are in the vector $y$ as a numeric class representing the digit actually displayed in the image."
   ]
  },
  {
   "cell_type": "markdown",
   "metadata": {},
   "source": [
    "# Step 4 - Plot the Data\n",
    "\n",
    "For instance, these images look like the below:"
   ]
  },
  {
   "cell_type": "code",
   "execution_count": 4,
   "metadata": {},
   "outputs": [
    {
     "data": {
      "image/png": "[encoded data removed]",
      "text/plain": [
       "<Figure size 720x144 with 40 Axes>"
      ]
     },
     "metadata": {},
     "output_type": "display_data"
    }
   ],
   "source": [
    "plt.figure(figsize=(10, 2))\n",
    "counter = 1\n",
    "for digit in np.random.choice(range(5000), 40, replace = False):\n",
    "    plt.subplot(4, 10, counter)\n",
    "    sub = data['X'][digit].reshape((20, 20), order = 'F')\n",
    "    plt.imshow(sub, cmap = 'Greys')\n",
    "    plt.xticks(())\n",
    "    plt.yticks(())\n",
    "    counter +=1"
   ]
  },
  {
   "cell_type": "markdown",
   "metadata": {},
   "source": [
    "# Step 5 - Define the Functions"
   ]
  },
  {
   "cell_type": "markdown",
   "metadata": {},
   "source": [
    "The first task is to modify our logistic regression implementation to be completely vectorized (i.e. no \"for\" loops).  This is because vectorized code, in addition to being short and concise, is able to take advantage of linear algebra optimizations and is typically much faster than iterative code.  \n",
    "\n",
    "However if you look at our cost function implementation from exercise 2, it's already vectorized!  So we can re-use the same implementation here.  Note we're skipping straight to the final, regularized version."
   ]
  },
  {
   "cell_type": "markdown",
   "metadata": {},
   "source": [
    "## (a) Define the Sigmoid Function"
   ]
  },
  {
   "cell_type": "code",
   "execution_count": 5,
   "metadata": {},
   "outputs": [],
   "source": [
    "def sigmoid(z):\n",
    "    return 1 / (1 + np.exp(-z))"
   ]
  },
  {
   "cell_type": "markdown",
   "metadata": {},
   "source": [
    "## (b) Define the Cost Function\n",
    "\n",
    "Recall that the <b>regularized</b> cost function is as follows:\n",
    "\n",
    "\\begin{align}\n",
    "J_{reg}(\\theta) = \\frac{1}{2m} \\bigg[-y^{(i)}log(h_\\theta(x^{(i)})) - (1 - y^{(i)})log(1 - h_\\theta(x^{(i)})) + \\lambda \\sum_{j=1}^{m} \\theta_j^2\\bigg]\n",
    "\\end{align}"
   ]
  },
  {
   "cell_type": "code",
   "execution_count": 6,
   "metadata": {},
   "outputs": [],
   "source": [
    "def cost(theta, X, y, learningRate):\n",
    "    theta = np.matrix(theta)\n",
    "    X = np.matrix(X)\n",
    "    y = np.matrix(y)\n",
    "    first = np.multiply(-y, np.log(sigmoid(X * theta.T)))\n",
    "    second = np.multiply((1 - y), np.log(1 - sigmoid(X * theta.T)))\n",
    "    reg = (learningRate / 2 * len(X)) * np.sum(np.power(theta[:,1:theta.shape[1]], 2))\n",
    "    return np.sum(first - second) / (len(X)) + reg"
   ]
  },
  {
   "cell_type": "markdown",
   "metadata": {},
   "source": [
    "See Week 3 implementation for line by line explanation of the above code and how it maps to the mathematical function above."
   ]
  },
  {
   "cell_type": "markdown",
   "metadata": {},
   "source": [
    "## (c) Define the Gradient Function\n",
    "\n",
    "Next we need the function that computes the gradient.  Again, we already defined this in the previous exercise, only in this case we do have a \"for\" loop in the update step that we need to get rid of.  Here's the original code for reference:\n",
    "\n",
    "### (i) Original Code (with loop)"
   ]
  },
  {
   "cell_type": "code",
   "execution_count": 7,
   "metadata": {},
   "outputs": [],
   "source": [
    "def gradient_with_loop(theta, X, y, learningRate):\n",
    "    theta = np.matrix(theta)\n",
    "    X = np.matrix(X)\n",
    "    y = np.matrix(y)\n",
    "    \n",
    "    parameters = int(theta.ravel().shape[1])\n",
    "    grad = np.zeros(parameters)\n",
    "    \n",
    "    error = sigmoid(X * theta.T) - y\n",
    "    \n",
    "    for i in range(parameters):\n",
    "        term = np.multiply(error, X[:,i])\n",
    "        \n",
    "        if (i == 0):\n",
    "            grad[i] = np.sum(term) / len(X)\n",
    "        else:\n",
    "            grad[i] = (np.sum(term) / len(X)) + ((learningRate / len(X)) * theta[:,i])\n",
    "    \n",
    "    return grad"
   ]
  },
  {
   "cell_type": "markdown",
   "metadata": {},
   "source": [
    "### (ii) New Code (without loop)\n",
    "\n",
    "In our new version we're going to pull out the \"for\" loop and compute the gradient for each parameter at once using linear algebra (except for the intercept parameter, which is not regularized so it's computed separately).  \n",
    "\n",
    "To follow the math behind the transformation, refer to the exercise 3 text.\n",
    "\n",
    "<b>Note:</b>\n",
    "\n",
    "* We're converting the data structures to NumPy matrices (which I've used for the most part throughout these exercises).  \n",
    "\n",
    "\n",
    "* This is done in an attempt to make the code look more similar to Octave than it would using arrays.  Why? Because matrices automatically follow matrix operation rules vs. element-wise operations, which is the default for arrays.  \n",
    "\n",
    "Recall the gradient descent function for <b>regularized</b> logistic regression is as follows:\n",
    "\n",
    "\\begin{align*} & \\text{repeat until convergence:} \\; \\lbrace \\newline \\; & \n",
    "\\theta_0 := \\theta_0 - \\alpha \\frac{1}{m} \\sum\\limits_{i=1}^{m} (h_\\theta(x^{(i)}) - y^{(i)}) \\cdot x_0^{(i)} \\newline \\; & \n",
    "\\cdots  \\newline \\; & \n",
    "\\theta_j := \\theta_j(1 - \\alpha \\frac{\\lambda}{m}) - \\alpha \\frac{1}{m} \\sum\\limits_{i=1}^{m} (h_\\theta(x^{(i)}) - y^{(i)}) \\cdot x_j^{(i)} & \\newline \n",
    "\\rbrace \\end{align*}"
   ]
  },
  {
   "cell_type": "code",
   "execution_count": 8,
   "metadata": {},
   "outputs": [],
   "source": [
    "def gradient(theta, X, y, learningRate):\n",
    "    theta = np.matrix(theta)\n",
    "    X = np.matrix(X)\n",
    "    y = np.matrix(y)\n",
    "    \n",
    "    parameters = int(theta.ravel().shape[1])\n",
    "    error = sigmoid(X * theta.T) - y\n",
    "    \n",
    "    # Applies gradient descent to update theta values from theta_1 - theta_n\n",
    "    grad = ((X.T * error) / len(X)).T + ((learningRate / len(X)) * theta)\n",
    "    \n",
    "    # Applies gradient descent to update theta_0, which is not regularised by convention.\n",
    "    grad[0, 0] = np.sum(np.multiply(error, X[:,0])) / len(X)\n",
    "    \n",
    "    return np.array(grad).ravel()"
   ]
  },
  {
   "cell_type": "markdown",
   "metadata": {},
   "source": [
    "# Step 6 - Define the Classifier\n",
    "\n",
    "Now that we've defined our cost and gradient functions, it's time to build a classifier.  \n",
    "\n",
    "For this task we've got 10 possible classes:\n",
    "\n",
    "1. $h_\\theta^{(1)}(x) = P(y = 0 \\text{ | }x; \\theta)$.\n",
    "\n",
    "\n",
    "2. $h_\\theta^{(2)}(x) = P(y = 1 \\text{ | }x; \\theta)$.\n",
    "\n",
    "\n",
    "3. $h_\\theta^{(3)}(x) = P(y = 2 \\text{ | }x; \\theta)$.\n",
    "\n",
    "\n",
    "4. $h_\\theta^{(4)}(x) = P(y = 3 \\text{ | }x; \\theta)$.\n",
    "\n",
    "\n",
    "5. $h_\\theta^{(5)}(x) = P(y = 4 \\text{ | }x; \\theta)$.\n",
    "\n",
    "\n",
    "6. $h_\\theta^{(6)}(x) = P(y = 5 \\text{ | }x; \\theta)$.\n",
    "\n",
    "\n",
    "7. $h_\\theta^{(7)}(x) = P(y = 6 \\text{ | }x; \\theta)$.\n",
    "\n",
    "\n",
    "8. $h_\\theta^{(8)}(x) = P(y = 7 \\text{ | }x; \\theta)$.\n",
    "\n",
    "\n",
    "9. $h_\\theta^{(9)}(x) = P(y = 8 \\text{ | }x; \\theta)$.\n",
    "\n",
    "\n",
    "10. $h_\\theta^{(10)}(x) = P(y = 9 \\text{ | }x; \\theta)$.\n",
    "\n",
    "\n",
    "Since logistic regression is only able to distiguish between 2 classes at a time, we need a strategy to deal with the multi-class scenario.  \n",
    "\n",
    "In this exercise we're tasked with implementing:\n",
    "\n",
    "* A <b>one-vs-all classification</b> approach, where a label with $k$ different classes results in $k$ classifiers.\n",
    "\n",
    "\n",
    "* Each such classifier decides between <b>\"class i\"</b> and <b>\"not class i\"</b>, i.e. any class other than i.  \n",
    "\n",
    "We're going to wrap the classifier training up in one function that computes the final weights for each of the 10 classifiers and returns the weights as a $k$ x $(n + 1)$ array, where $n$ is the number of parameters."
   ]
  },
  {
   "cell_type": "code",
   "execution_count": 16,
   "metadata": {},
   "outputs": [],
   "source": [
    "from scipy.optimize import minimize\n",
    "\n",
    "def one_vs_all(X, y, num_labels, learning_rate):\n",
    "        \n",
    "    rows = X.shape[0]\n",
    "    \n",
    "    params = X.shape[1]\n",
    "    \n",
    "    # insert a column of ones at the beginning for the intercept term\n",
    "    X = np.insert(X, 0, values=np.ones(rows), axis=1)\n",
    "    \n",
    "    # k X (n + 1) array for the parameters of each of the k classifiers\n",
    "    all_theta = np.zeros((num_labels, params + 1))\n",
    "     \n",
    "    # labels are 1-indexed instead of 0-indexed\n",
    "    for i in range(1, num_labels + 1):\n",
    "        theta = np.zeros(params + 1)\n",
    "        y_i = np.array([1 if label == i else 0 for label in y])\n",
    "        y_i = np.reshape(y_i, (rows, 1))\n",
    "        \n",
    "        # minimize the objective function\n",
    "        fmin = minimize(fun=cost, x0=theta, args=(X, y_i, learning_rate), method='TNC', jac=gradient)\n",
    "        all_theta[i-1,:] = fmin.x\n",
    "    \n",
    "    return all_theta"
   ]
  },
  {
   "cell_type": "markdown",
   "metadata": {},
   "source": [
    "## Intutition - Line by Line Analysis"
   ]
  },
  {
   "cell_type": "markdown",
   "metadata": {},
   "source": [
    "### (a) Line 5\n",
    "\n",
    "Defines new variable, `rows` equal to `X.shape[0]`, which is $5000$."
   ]
  },
  {
   "cell_type": "markdown",
   "metadata": {},
   "source": [
    "### (b) Line 7\n",
    "\n",
    "Defines new variable, `params` equal to `X.shape[1]`, which is $400$.  "
   ]
  },
  {
   "cell_type": "markdown",
   "metadata": {},
   "source": [
    "### (c) Line 10\n",
    "\n",
    "`X = np.insert(X, 0, values=np.ones(rows), axis=1)` inserts into `X` array at index `0` the values described by `values=np.ones(rows)`, which is a column of $0$s in the same dimension as the number of existing rows, i.e. 500.\n",
    "\n",
    "In other words, it adds a $5000$ row column vector to $X$ at index $0$.  This represents the bias unit $x_0$ for each feature vector $x^i$.  In doing so, this transforms the dimensions of X as follows:\n",
    "\n",
    "* $X$ was $5000$ rows x $400$ columns; and\n",
    "\n",
    "\n",
    "* Is now $5000$ rows x $401$ columns."
   ]
  },
  {
   "cell_type": "markdown",
   "metadata": {},
   "source": [
    "### (d) Line 13 \n",
    "\n",
    "Creates a matrix of zeros of the dimensions k x (n + 1).  Specifically:\n",
    "\n",
    "* $k$ = rows = `num_labels`, i.e. the number of classifiers / labels, in this case $10$ (one for each digit between $0$ - $9$).  \n",
    "\n",
    "\n",
    "* $(n + 1)$ = columns = `params + 1`, i.e. $400 + 1$ = $401$.\n",
    "\n",
    "This matrix `all_theta` will store the weights for each of the 10 classifiers. In formula, it is identified as $\\Theta$. In other words, each of the $10$ rows will contain $401$ weights corresponding to a particular classier's intepretation of each feature.\n",
    "\n",
    "For instance, the first row, $\\Theta^1$, will correspond to the weights of classifier 1's hypothesis."
   ]
  },
  {
   "cell_type": "markdown",
   "metadata": {},
   "source": [
    "### (e) Line 16\n",
    "\n",
    "`for i in rang(1, num_labels +1):` executes the immediately below code for each classifier from $k_1$ to $k_{10}$. "
   ]
  },
  {
   "cell_type": "markdown",
   "metadata": {},
   "source": [
    "### (f) Line 17\n",
    "\n",
    "Creates a matrix of $\\theta$ parameters.  This matrix is:\n",
    "\n",
    "* Of the dimensions $1$ row x $401$ columns (i.e. $n +1$ columns because of the bias unit $x_0$); and\n",
    "\n",
    "\n",
    "* Each paramater value is set equal to zero.  "
   ]
  },
  {
   "cell_type": "markdown",
   "metadata": {},
   "source": [
    "### (g) Line 18 \n",
    "\n",
    "#### Recall that:\n",
    "\n",
    "* $y$ is a vector of class labels where each of the $5000$ rows in $y$ corresponds to a <b>class label</b> between \"$1$\" to \"$10$\" identifying to which of the $10$ classes an image belongs, i.e. to which number between $0$ to $9$ does the image correspond.\n",
    "\n",
    "\n",
    "* The label \"$0$\" is mapped to the digit \"$10$\" to avoid confusion with indexing) for each sample image.\n",
    "\n",
    "#### So what is this line doing?\n",
    "\n",
    "`np.array([1 if label == i else 0 for label in y])` transforms $y$ from:\n",
    "\n",
    "* a vector of <b>class labels</b> identifying what number the handwritten digit represents;\n",
    "\n",
    "  to\n",
    "  \n",
    "\n",
    "* a vector of <b>binary values</b>, either $0$ or $1$ depending on whether the class label for a particular example matches the class of the particular classifier.  \n",
    "\n",
    "##### An Example\n",
    "\n",
    "* In the first iteration of the `for` we are classifying whether each image IS or is NOT a number \"$1$\"\n",
    "\n",
    "\n",
    "* To enable this classifier, Line 18 will have transformed the $y$ vector so that each class label for each image is now transformed into a binary value identifying simply whether each image:\n",
    "    <br>\n",
    "    <br>\n",
    "\n",
    "    * <b>IS</b> \"$1$\"; or\n",
    "    <br>\n",
    "    <br>\n",
    "\n",
    "    * is <b>NOT</b> \"$1$\".\n",
    "    \n",
    "\n",
    "* If the first sample image is labelled \"$7$\" its corresponding $y$ value will have been transformed from \"$7$\" &rarr; \"$0$\", i.e. because it doesn't belong to the class labelled \"$1$\".\n",
    "\n",
    "\n",
    "* This transformed set of $y$ values is then used throughout the functions to optimise each classifier using the code at line 22."
   ]
  },
  {
   "cell_type": "markdown",
   "metadata": {},
   "source": [
    "### (h) Line 19\n",
    "\n",
    "Flips the `y_i` vector from:\n",
    "\n",
    "* a $1$ row x $5000$ column vector\n",
    "\n",
    "  to \n",
    "    \n",
    "    \n",
    "* a $5000$ row x $1$ column vector."
   ]
  },
  {
   "cell_type": "markdown",
   "metadata": {},
   "source": [
    "### (j) Lines 22 and 23\n",
    "\n",
    "#### Line 22\n",
    "\n",
    "Finally, we're using SciPy's newer optimization API to minimize the cost function for each classifier.  The API takes:\n",
    "\n",
    "        fmin = minimize(fun=cost, x0=theta, args=(X, y_i, learning_rate), method='TNC', jac=gradient)\n",
    "\n",
    "\n",
    "1. An objective function, in this case the `cost` function.\n",
    "\n",
    "\n",
    "2. An initial set of parameters, in this case the intial `theta` vector.\n",
    "\n",
    "\n",
    "3. A set of arguments, in this case:\n",
    "\n",
    "    (a) `X`, i.e. the matrix $X$ of each image sample;\n",
    "    \n",
    "    (b) `y_i`, i.e. the vector of binary values corresponding to the particular classifier; and\n",
    "    \n",
    "    (c) the `learning_rate`.\n",
    "\n",
    "3. An optimization method, in this case `TNC`; and\n",
    "\n",
    "\n",
    "4. A jacobian (gradient) function if specified.  \n",
    "\n",
    "#### Line 23\n",
    "\n",
    "The parameters found by the optimization routine for each classifier are then assigned to the parameter array, `all_theta`.  \n",
    "After all iterations `all_theta` will contain $10$ rows x $401$ columns, each row corresponding to the optimised $\\theta$ values for each of the 10 classifiers."
   ]
  },
  {
   "cell_type": "markdown",
   "metadata": {},
   "source": [
    "### Line 25\n",
    "\n",
    "* Returns the `all_theta` matrix of optimised parameters for each of the $10$ classifiers.\n",
    "\n",
    "\n",
    "* This matrix is of the dimensions: $10$ rows x $401$ columns."
   ]
  },
  {
   "cell_type": "markdown",
   "metadata": {},
   "source": [
    "# Step 10 - Checking Dimensionality\n",
    "\n",
    "One of the more challenging parts of implementing vectorized code is getting all of the matrix interactions written correctly, so I find it useful to do some sanity checks by looking at the shapes of the arrays / matrices I'm working with and convincing myself that they're sensible.  \n",
    "\n",
    "Let's look at some of the data structures used in the above function."
   ]
  },
  {
   "cell_type": "code",
   "execution_count": 10,
   "metadata": {},
   "outputs": [
    {
     "data": {
      "text/plain": [
       "((5000, 401), (5000, 1), (401,), (10, 401), 5000, 400)"
      ]
     },
     "execution_count": 10,
     "metadata": {},
     "output_type": "execute_result"
    }
   ],
   "source": [
    "# No. of rows of the X matrix, i.e. 5000\n",
    "rows = data['X'].shape[0]\n",
    "\n",
    "# No. of columns of the X matrix, i.e. 400\n",
    "params = data['X'].shape[1]\n",
    "\n",
    "# The matrix of all theta values for each of the 10 classifiers\n",
    "all_theta = np.zeros((10, params + 1))\n",
    "\n",
    "# The X matrix AFTER the bias unit feature x_0 is added at index 0 of X matrix\n",
    "X = np.insert(data['X'], 0, values=np.ones(rows), axis=1)\n",
    "\n",
    "# The matrix of initial theta values, expanded by +1 to reflect the x_0 feature\n",
    "theta = np.zeros(params + 1)\n",
    "\n",
    "# The $y$ vector for a particular classifier, transformed from a vector of class labels to a vector of binary values\n",
    "y_0 = np.array([1 if label == 0 else 0 for label in data['y']])\n",
    "\n",
    "# Same as above, albeit reshaped from a row vector to a column vector.\n",
    "y_0 = np.reshape(y_0, (rows, 1))\n",
    "\n",
    "X.shape, y_0.shape, theta.shape, all_theta.shape, rows, params"
   ]
  },
  {
   "cell_type": "markdown",
   "metadata": {},
   "source": [
    "These all appear to make sense.  Note that theta is a one-dimensional array, so when it gets converted to a matrix in the code that computes the gradient, it turns into a (1 X 401) matrix.  Let's also check the class labels in y to make sure they look like what we're expecting."
   ]
  },
  {
   "cell_type": "code",
   "execution_count": 11,
   "metadata": {},
   "outputs": [
    {
     "data": {
      "text/plain": [
       "array([ 1,  2,  3,  4,  5,  6,  7,  8,  9, 10], dtype=uint8)"
      ]
     },
     "execution_count": 11,
     "metadata": {},
     "output_type": "execute_result"
    }
   ],
   "source": [
    "np.unique(data['y'])"
   ]
  },
  {
   "cell_type": "markdown",
   "metadata": {},
   "source": [
    "# Step 11 - Running our Training Function\n",
    "\n",
    "Let's make sure that our training function actually runs, and we get some sensible outputs, before going any further."
   ]
  },
  {
   "cell_type": "code",
   "execution_count": 17,
   "metadata": {},
   "outputs": [
    {
     "data": {
      "text/plain": [
       "array([[-3.70247926e-05,  0.00000000e+00,  0.00000000e+00, ...,\n",
       "        -2.24803608e-10,  2.31962906e-11,  0.00000000e+00],\n",
       "       [-8.96250666e-05,  0.00000000e+00,  0.00000000e+00, ...,\n",
       "         7.26120759e-09, -6.19965241e-10,  0.00000000e+00],\n",
       "       [-8.39553327e-05,  0.00000000e+00,  0.00000000e+00, ...,\n",
       "        -7.61695557e-10,  4.64917621e-11,  0.00000000e+00],\n",
       "       ...,\n",
       "       [-7.00832477e-05,  0.00000000e+00,  0.00000000e+00, ...,\n",
       "        -6.92009077e-10,  4.29241521e-11,  0.00000000e+00],\n",
       "       [-7.65188037e-05,  0.00000000e+00,  0.00000000e+00, ...,\n",
       "        -8.09503443e-10,  5.31058807e-11,  0.00000000e+00],\n",
       "       [-6.63412331e-05,  0.00000000e+00,  0.00000000e+00, ...,\n",
       "        -3.49765821e-09,  1.13668504e-10,  0.00000000e+00]])"
      ]
     },
     "execution_count": 17,
     "metadata": {},
     "output_type": "execute_result"
    }
   ],
   "source": [
    "all_theta = one_vs_all(data['X'], data['y'], 10, 1)\n",
    "all_theta"
   ]
  },
  {
   "cell_type": "markdown",
   "metadata": {},
   "source": [
    "Great, so the above is a $10$ row by $401$ column matrix of all the optimised $\\theta$ values corresponding to each classifier."
   ]
  },
  {
   "cell_type": "markdown",
   "metadata": {},
   "source": [
    "# Step 12 - Predicting our $y$ values and scoring accuracy!\n",
    "\n",
    "We're now ready for the final step - using the trained classifiers to predict a label for each image.  For this step we're going to compute the class probability for each class, for each training instance (using vectorized code of course!) and assign the output class label as the class with the highest probability."
   ]
  },
  {
   "cell_type": "code",
   "execution_count": 13,
   "metadata": {},
   "outputs": [],
   "source": [
    "def predict_all(X, all_theta):\n",
    "    rows = X.shape[0]\n",
    "    params = X.shape[1]\n",
    "    num_labels = all_theta.shape[0]\n",
    "    \n",
    "    # Same as before, insert ones to match the shape\n",
    "    X = np.insert(X, 0, values=np.ones(rows), axis=1)\n",
    "    \n",
    "    # Convert to matrices\n",
    "    X = np.matrix(X)\n",
    "    all_theta = np.matrix(all_theta)\n",
    "    \n",
    "    # Computes the probability that a sample belongs to each of the 10 classes, i.e. probability it is class 1, class 2 etc\n",
    "    h = sigmoid(X * all_theta.T)\n",
    "    \n",
    "    # Create array of the index with the maximum probability\n",
    "    h_argmax = np.argmax(h, axis=1)\n",
    "    \n",
    "    # Because our array was zero-indexed we need to add one for the true label prediction\n",
    "    h_argmax = h_argmax + 1\n",
    "    \n",
    "    return h_argmax"
   ]
  },
  {
   "cell_type": "markdown",
   "metadata": {},
   "source": [
    "## Intuition - Line by Line Analysis\n",
    "\n",
    "### (a) Line 14\n",
    "\n",
    "* `sigmoid(X * all_theta.T)` multiplies the $5000$ x $401$ dimension $X$ matrix of image samples by the $10$ x $401$ dimension $\\Theta$ matrix of $\\theta$ values for each of the 10 classifiers.  \n",
    "\n",
    "\n",
    "* Returns a $5000$ x $10$ matrix of probabilities where each row represents class probabilities, i.e. % probability an image belongs to class 1, 2, 3, 4, 5, 6, 7, 8, 9, or 10.  Each column in that row is one of those % probabilities, e.g. $h_3^1$ = $P(y = 3)$ for sample 3.\n",
    "\n"
   ]
  },
  {
   "cell_type": "markdown",
   "metadata": {},
   "source": [
    "## (b) Lines 17 and 20\n",
    "\n",
    "#### Line 17\n",
    "\n",
    "For each row in the `h` matrix, `h_argmax = np.argmax(h, axis=1)` returns the index (i.e. column in that row) of the highest probability that the image belongs to a particular class. \n",
    "\n",
    "#### Line 20\n",
    "\n",
    "Adds $+1$ to each index because our labels array was 1 indexed, not 0 indexed:\n",
    "\n",
    "#### Example"
   ]
  },
  {
   "cell_type": "code",
   "execution_count": 14,
   "metadata": {},
   "outputs": [
    {
     "data": {
      "text/plain": [
       "matrix([[3],\n",
       "        [2],\n",
       "        [1]], dtype=int64)"
      ]
     },
     "execution_count": 14,
     "metadata": {},
     "output_type": "execute_result"
    }
   ],
   "source": [
    "a = [[0, 1, 64], [3, 45, 1], [12, 3, 5]]\n",
    "a = np.matrix(a)\n",
    "# a ==> matrix([[ 0,  1, 64],\n",
    "#               [ 3, 45,  1],\n",
    "#               [12,  3,  5]])\n",
    "h_argmax = np.argmax(a, axis=1)\n",
    "h_argmax = h_argmax + 1\n",
    "h_argmax\n"
   ]
  },
  {
   "cell_type": "markdown",
   "metadata": {},
   "source": [
    "This would indicate image 1 is most likely class 3, image 2 is most likely class 2 and image 3 is most likely class 1."
   ]
  },
  {
   "cell_type": "markdown",
   "metadata": {},
   "source": [
    "# Step 13 - Running our Prediction Function and testing accuacy\n",
    "\n",
    "Now we can use the predict_all function to generate class predictions for each instance and see how well our classifier works."
   ]
  },
  {
   "cell_type": "code",
   "execution_count": 18,
   "metadata": {},
   "outputs": [
    {
     "name": "stdout",
     "output_type": "stream",
     "text": [
      "accuracy = 74.6%\n"
     ]
    }
   ],
   "source": [
    "y_pred = predict_all(data['X'], all_theta)\n",
    "correct = [1 if a == b else 0 for (a, b) in zip(y_pred, data['y'])]\n",
    "accuracy = (sum(map(int, correct)) / float(len(correct)))\n",
    "print('accuracy = {0}%'.format(accuracy * 100))"
   ]
  }
 ],
 "metadata": {
  "kernelspec": {
   "display_name": "Python 3",
   "language": "python",
   "name": "python3"
  },
  "language_info": {
   "codemirror_mode": {
    "name": "ipython",
    "version": 3
   },
   "file_extension": ".py",
   "mimetype": "text/x-python",
   "name": "python",
   "nbconvert_exporter": "python",
   "pygments_lexer": "ipython3",
   "version": "3.6.5"
  }
 },
 "nbformat": 4,
 "nbformat_minor": 1
}
